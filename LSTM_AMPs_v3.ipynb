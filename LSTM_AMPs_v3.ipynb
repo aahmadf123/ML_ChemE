{
  "nbformat": 4,
  "nbformat_minor": 0,
  "metadata": {
    "colab": {
      "provenance": [],
      "include_colab_link": true
    },
    "kernelspec": {
      "name": "python3",
      "display_name": "Python 3"
    },
    "language_info": {
      "name": "python"
    }
  },
  "cells": [
    {
      "cell_type": "markdown",
      "metadata": {
        "id": "view-in-github",
        "colab_type": "text"
      },
      "source": [
        "<a href=\"https://colab.research.google.com/github/aahmadf123/ML_ChemE/blob/main/LSTM_AMPs_v3.ipynb\" target=\"_parent\"><img src=\"https://colab.research.google.com/assets/colab-badge.svg\" alt=\"Open In Colab\"/></a>"
      ]
    },
    {
      "cell_type": "markdown",
      "source": [
        "#Generative ML Models in Protein Engineering  \n",
        "\n",
        "Reference:  \n",
        "Mardikoraem M, Wang Z, Pascual N, Woldring D. Generative models for protein sequence modeling: recent advances and future directions. Brief Bioinform. 2023 Sep 22;24(6):bbad358. doi: 10.1093/bib/bbad358. PMID: 37864295; PMCID: PMC10589401.  \n",
        "[paper](https://academic.oup.com/bib/article/24/6/bbad358/7325909)  \n",
        "[Models](https://drive.google.com/file/d/1-hoO3tdwTOhPSf0qR6WcuifX3MD-FUN0/view?usp=drive_link)  \n"
      ],
      "metadata": {
        "id": "uOHGqsJLQF4W"
      }
    },
    {
      "cell_type": "markdown",
      "source": [
        "# LSTM Generative Model for Antimicrobial Peptides\n",
        "===================================================================\n",
        "\n",
        "This script shows how to:\n",
        "\n",
        "1.   Preprocess AMP sequences (tokenize amino acids).\n",
        "2.   Train an LSTM-based model to predict the next amino acid.\n",
        "3.   Generate new sequences by sampling from the trained model.\n",
        "\n",
        "Examples of AMP structures and sequences  \n",
        "https://www.rcsb.org/structure/6G4I --> 'FLPILASLAAKFGPKLFCLVTKKC'  \n",
        "https://www.rcsb.org/structure/2L36 --> 'GIGKALKKAKKGIGAVLKVLTTGL'  \n",
        "\n",
        "AMP Sequene Database: https://aps.unmc.edu/downloads\n",
        "\n",
        "[Real AMP Structures](https://drive.google.com/file/d/1-d_51oVdIBav2ls8hFX9pxv6ayfWqycl/view?usp=sharing)"
      ],
      "metadata": {
        "id": "xzt4xP36qzmc"
      }
    },
    {
      "cell_type": "code",
      "source": [
        "import numpy as np\n",
        "from tensorflow.keras.models import Sequential\n",
        "from tensorflow.keras.layers import Embedding, LSTM, Dense\n",
        "from tensorflow.keras.optimizers import Adam"
      ],
      "metadata": {
        "id": "TNwqxr6Qr1nR"
      },
      "execution_count": 1,
      "outputs": []
    },
    {
      "cell_type": "markdown",
      "source": [
        "##1. Antimicrobial Peptide (AMP) Sequence Dataset\n",
        "Note: With only ~150 AMP sequences (each length 24), overfitting is likely.\n",
        "      Consider data augmentation, dropout, or pretraining on larger protein sets."
      ],
      "metadata": {
        "id": "uJZUyR1WsBoI"
      }
    },
    {
      "cell_type": "code",
      "source": [
        "amp_sequences = [\n",
        "            'FLPLLAGLAANFLPTIICKISYKC',\n",
        "            'FLPFIARLAAKVFPSIICSVTKKC',\n",
        "            'GVLSNVIGYLKKLGTGALNAVLKQ',\n",
        "            'GLFSVLGAVAKHVLPHVVPVIAEK',\n",
        "            'GLFKVLGSVAKHLLPHVAPVIAEK',\n",
        "            'GLFKVLGSVAKHLLPHVVPVIAEK',\n",
        "            'GLFGVLGSIAKHVLPHVVPVIAEK',\n",
        "            'MFFSSKKCKTVSKTFRGPCVRNAN',\n",
        "            'LLKELWTKMKGAGKAVLGKIKGLL',\n",
        "            'LLKELWTKIKGAGKAVLGKIKGLL',\n",
        "            'FWGALIKGAAKLIPSVVGLFKKKQ',\n",
        "            'FLPVVAGLAAKVLPSIICAVTKKC',\n",
        "            'FLPAIVGAAGQFLPKIFCAISKKC',\n",
        "            'FLPAIVGAAGKFLPKIFCAISKKC',\n",
        "            'FFPIVAGVAGQVLKKIYCTISKKC',\n",
        "            'FLPIIAGIAAKVFPKIFCAISKKC',\n",
        "            'FLPMLAGLAASMVPKLVCLITKKC',\n",
        "            'FLPMLAGLAASMVPKFVCLITKKC',\n",
        "            'FLPFIAGMAAKFLPKIFCAISKKC',\n",
        "            'FLPAIAGMAAKFLPKIFCAISKKC',\n",
        "            'FLPFIAGVAAKFLPKIFCAISKKC',\n",
        "            'FLPAIAGVAAKFLPKIFCAISKKC',\n",
        "            'FLPAIVGAAAKFLPKIFCVISKKC',\n",
        "            'FLPFIAGMAANFLPKIFCAISKKC',\n",
        "            'FLPIIAGVAAKVFPKIFCAISKKC',\n",
        "            'FLPIIASVAAKVFSKIFCAISKKC',\n",
        "            'FLPIIASVAANVFSKIFCAISKKC',\n",
        "            'GLNTLKKVFQGLHEAIKLINNHVQ',\n",
        "            'GLNALKKVFQGIHEAIKLINNHVQ',\n",
        "            'DSHAKRHHGYKRKFHEKHHSHRGY',\n",
        "            'FLPLLAGLAANFLPKIFCKITKKC',\n",
        "            'FLPILAGLAAKIVPKLFCLATKKC',\n",
        "            'FLPLIAGLAANFLPKIFCAITKKC',\n",
        "            'FLPVIAGVAAKFLPKIFCAITKKC',\n",
        "            'FWGALAKGALKLIPSLFSSFSKKD',\n",
        "            'ITSVSWCTPGCTSEGGGSGCSHCC',\n",
        "            'GLLNGLALRLGKRALKKIIKRLCR',\n",
        "            'ALWKDILKNAGKAALNEINQLVNQ',\n",
        "            'GLRSKIWLWVLLMIWQESNKFKKM',\n",
        "            'GKGRWLERIGKAGGIIIGGALDHL',\n",
        "            'FLGALIKGAIHGGRFIHGMIQNHH',\n",
        "            'FLGLLFHGVHHVGKWIHGLIHGHH',\n",
        "            'FLPMLAGLAANFLPKLFCKITKKC',\n",
        "            'FLPLAVSLAANFLPKLFCKITKKC',\n",
        "            'FLPLLAGLAANFFPKIFCKITRKC',\n",
        "            'FLPILASLAAKFGPKLFCLVTKKC',\n",
        "            'FLPILASLAAKLGPKLFCLVTKKC',\n",
        "            'FLPILASLAATLGPKLLCLITKKC',\n",
        "            'GIFSNMYARTPAGYFRGPAGYAAN',\n",
        "            'GLKDKFKSMGEKLKQYIQTWKAKF',\n",
        "            'SLKDKVKSMGEKLKQYIQTWKAKF',\n",
        "            'GFRDVLKGAAKAFVKTVAGHIANI',\n",
        "            'GIKDWIKGAAKKLIKTVASNIANQ',\n",
        "            'GFKDWIKGAAKKLIKTVASSIANQ',\n",
        "            'VIPFVASVAAEMMQHVYCAASKKC',\n",
        "            'FFGTALKIAANVLPTAICKILKKC',\n",
        "            'FFGTALKIAANILPTAICKILKKC',\n",
        "            'ILPFVAGVAAEMMQHVYCAASKKC',\n",
        "            'FLPAIVGAAAKFLPKIFCAISKKC',\n",
        "            'FLPIIAGVAAKVLPKIFCAISKKC',\n",
        "            'FLPIIAGIAAKFLPKIFCTISKKC',\n",
        "            'FLPVIAGVAANFLPKLFCAISKKC',\n",
        "            'FLPIIAGAAAKVVQKIFCAISKKC',\n",
        "            'FLPIIAGAAAKVVEKIFCAISKKC',\n",
        "            'FLPAVLRVAAKIVPTVFCAISKKC',\n",
        "            'FLPAVLRVAAQVVPTVFCAISKKC',\n",
        "            'FMGGLIKAATKIVPAAYCAITKKC',\n",
        "            'FLPILAGLAAKLVPKVFCSITKKC',\n",
        "            'FLPILAGLAANILPKVFCSITKKC',\n",
        "            'FFPIIAGMAAKLIPSLFCKITKKC',\n",
        "            'FMGSALRIAAKVLPAALCQIFKKC',\n",
        "            'DSHEKRHHEHRRKFHEKHHSHRGY',\n",
        "            'WRSLGRTLLRLSHALKPLARRSGW',\n",
        "            'VTSWSLCTPGCTSPGGGSNCSFCC',\n",
        "            'VIPFVASVAAEMMHHVYCAASKRC',\n",
        "            'SPAGCRFCCGCCPNMRGCGVCCRF',\n",
        "            'GRGREFMSNLKEKLSGVKEKMKNS',\n",
        "            'FLPVLTGLTPSIVPKLVCLLTKKC',\n",
        "            'FLPVLAGLTPSIVPKLVCLLTKKC',\n",
        "            'FFPMLAGVAARVVPKVICLITKKC',\n",
        "            'DSMGAVKLAKLLIDKMKCEVTKAC',\n",
        "            'FLPGVLRLVTKVGPAVVCAITRNC',\n",
        "            'VIVFVASVAAEMMQHVYCAASKKC',\n",
        "            'FLPAVIRVAANVLPTAFCAISKKC',\n",
        "            'IDPFVAGVAAEMMQHVYCAASKKC',\n",
        "            'INPFVAGVAAEMMQHVYCAASKKC',\n",
        "            'ILPFVAGVAAEMMKHVYCAASKKC',\n",
        "            'IIPFVAGVAAEMMEHVYCAASKKC',\n",
        "            'QLPFVAGVACEMCQCVYCAASKKC',\n",
        "            'ILPFVAGVAAEMMEHVYCAASKKC',\n",
        "            'ILPFVAGVAAMEMEHVYCAASKKC',\n",
        "            'FLPAVLLVATHVLPTVFCAITRKC',\n",
        "            'IPWKLPATFRPVERPFSKPFCRKD',\n",
        "            'FLPLLAGVVANFLPQIICKIARKC',\n",
        "            'FLGSLLGLVGKVVPTLFCKISKKC',\n",
        "            'FIGPVLKIAAGILPTAICKIFKKC',\n",
        "            'FVGPVLKIAAGILPTAICKIYKKC',\n",
        "            'FLGPIIKIATGILPTAICKFLKKC',\n",
        "            'FLPLIASLAANFVPKIFCKITKKC',\n",
        "            'FLPLIASVAANLVPKIFCKITKKC',\n",
        "            'FLSTLLKVAFKVVPTLFCPITKKC',\n",
        "            'KRKCPKTPFDNTPGAWFAHLILGC',\n",
        "            'FLGLIFHGLVHAGKLIHGLIHRNR',\n",
        "            'FLPAVIRVAANVLPTVFCAISKKC',\n",
        "            'FLPAVLRVAAKVVPTVFCLISKKC',\n",
        "            'FLSTALKVAANVVPTLFCKITKKC',\n",
        "            'FLPIVAGLAANFLPKIVCKITKKC',\n",
        "            'FLSTLLNVASNVVPTLICKITKKC',\n",
        "            'FLSTLLNVASKVVPTLFCKITKKC',\n",
        "            'FLPMLAGLAANFLPKIVCKITKKC',\n",
        "            'FIGPVLKMATSILPTAICKGFKKC',\n",
        "            'FLGPIIKMATGILPTAICKGLKKC',\n",
        "            'FLPIIAGVAAKVLPKLFCAITKKC',\n",
        "            'FLPVIAGLAAKVLPKLFCAITKKC',\n",
        "            'RKGWFKAMKSIAKFIAKEKLKEHL',\n",
        "            'FLPAVLKVAAHILPTAICAISRRC',\n",
        "            'FMGTALKIAANVLPAAFCKIFKKC',\n",
        "            'KLGFENFLVKALKTVMHVPTSPLL',\n",
        "            'GWLPTFGKILRKAMQLGPKLIQPI',\n",
        "            'GNGVVLTLTHECNLATWTKKLKCC',\n",
        "            'ITIPPIVKNTLKKFIKGAVSALMS',\n",
        "            'FLPGLIKAAVGVGSTILCKITKKC',\n",
        "            'FLPGLIKAAVGIGSTIFCKISKKC',\n",
        "            'FLPGLIKVAVGVGSTILCKITKKC',\n",
        "            'FLPGLIKAAVGIGSTIFCKISRKC',\n",
        "            'FLPMLAGLAANFLPKIICKITKKC',\n",
        "            'FLPIVASLAANFLPKIICKITKKC',\n",
        "            'FWGALAKGALKLIPSLVSSFTKKD',\n",
        "            'FFPLIAGLAARFLPKIFCSITKRC',\n",
        "            'VIPFVASVAAEMMQHVYCAASKRC',\n",
        "            'FFPSIAGLAAKFLPKIFCSITKRC',\n",
        "            'FLPAVLRVAAKVGPAVFCAITQKC',\n",
        "            'FLGMLLHGVGHAIHGLIHGKQNVE',\n",
        "            'NPAGCRFCCGCCPNMIGCGVCCRF',\n",
        "            'IWSFLIKAATKLLPSLFGGGKKDS',\n",
        "            'RNGCIVDPRCPYQQCRRPLYCRRR',\n",
        "            'ILELAGNAARDNKKTRIIPRHLQL',\n",
        "            'FLPLLAGLAANFLPTIICKIARKC',\n",
        "            'FLPAIIGMAAKVLPAFLCKITKKC',\n",
        "            'RRRRRFRRVIRRIRLPKYLTINTE',\n",
        "            'GNGVLKTISHECNMNTWQFLFTCC',\n",
        "            'FLPILAGLAANLVPKLICSITKKC',\n",
        "            'FLGAVLKVAGKLVPAAICKISKKC',\n",
        "            'FLGALFKVASKLVPAAICSISKKC',\n",
        "            'FLPVIAGIAANVLPKLFCKLTKRC',\n",
        "            'FFPIIARLAAKVIPSLVCAVTKKC',\n",
        "            'KRVNWRKVGRNTALGASYVLSFLG',\n",
        "            'GHSVDRIPEYFGPPGLPGPVLFYS',\n",
        "            'FLPLIAGVAAKVLPKIFCAISKKC',\n",
        "            'SDSVVSDIICTTFCSVTWCQSNCC',\n",
        "            'FLPLLAGLAANFLPQIICKIARKC',\n",
        "            'FLGTVLKVAAKVLPAALCQIFKKC',\n",
        "            'QSHLSMCRYCCCKGNKGCGFCCKF',\n",
        "            'VFDIIKDAGKQLVAHAMGKIAEKV',\n",
        "            'VFDIIKDAGRQLVAHAMGKIAEKV',\n",
        "            'FLPLLAGLAASFLPTIFCKISRKC',\n",
        "            'FFPIVAGVAAKVLKKIFCTISKKC',\n",
        "    # AMP sequences, each of length 24\n",
        "]"
      ],
      "metadata": {
        "id": "MYns1hrSsbD3"
      },
      "execution_count": 2,
      "outputs": []
    },
    {
      "cell_type": "markdown",
      "source": [
        "## 2. Build a character-to-index mapping\n",
        "Depending on your data, you might have 20 canonical amino acids + special tokens if needed."
      ],
      "metadata": {
        "id": "K54IOXj0smTG"
      }
    },
    {
      "cell_type": "code",
      "source": [
        "unique_amino_acids = sorted(list(set(\"\".join(amp_sequences))))\n",
        "# e.g., unique_amino_acids might look like: [\"A\", \"C\", \"D\", \"E\", ..., \"Y\"]\n",
        "\n",
        "char_to_idx = {char: idx for idx, char in enumerate(unique_amino_acids)}\n",
        "idx_to_char = {idx: char for char, idx in char_to_idx.items()}\n",
        "\n",
        "vocab_size = len(unique_amino_acids)  # e.g., could be 20 if strictly canonical\n"
      ],
      "metadata": {
        "id": "8Gk_J2S-tD03"
      },
      "execution_count": 3,
      "outputs": []
    },
    {
      "cell_type": "markdown",
      "source": [
        "## 3. Convert sequences to integer arrays"
      ],
      "metadata": {
        "id": "pXRerRa-tb0V"
      }
    },
    {
      "cell_type": "code",
      "source": [
        "encoded_sequences = []\n",
        "for seq in amp_sequences:\n",
        "    encoded_sequences.append([char_to_idx[c] for c in seq])\n",
        "\n",
        "encoded_sequences = np.array(encoded_sequences)  # shape: (num_sequences, seq_length)\n",
        "\n",
        "\n"
      ],
      "metadata": {
        "id": "1ZaHpW-PtcOc"
      },
      "execution_count": 4,
      "outputs": []
    },
    {
      "cell_type": "markdown",
      "source": [
        "## 4. Prepare training data\n",
        "   We can train a \"next-character prediction\" model.   \n",
        "   We can treat the amino acid sequence as a tiime series.    \n",
        "   For each position t in a sequence, predict the amino acid at position t+1.       \n",
        "   We'll \"shift\" the sequence by 1 for targets.    \n",
        "   Input: [X_0, X_1, ..., X_{22}],   \n",
        "   Target: [X_1, X_2, ..., X_{23}].\n",
        "   \n",
        "   We do this for all sequences."
      ],
      "metadata": {
        "id": "vdOPgwV9tn1q"
      }
    },
    {
      "cell_type": "code",
      "source": [
        "X = encoded_sequences[:, :-1]  # all but last character\n",
        "y = encoded_sequences[:, 1:]   # all but first character"
      ],
      "metadata": {
        "id": "iSVoze6-tsDW"
      },
      "execution_count": 5,
      "outputs": []
    },
    {
      "cell_type": "markdown",
      "source": [
        "## 5. Define LSTM model\n",
        "\n",
        "**Sequential**: This creates a linear stack of layers to build the LSTM model.  \n",
        "\n",
        "**Embedding**: This layer converts each amino acid index into a dense vector representation (embedding) of size embedding_dim. This allows the model to capture relationships between amino acids.  \n",
        "\n",
        "**LSTM**: This is the core layer, learning long-term dependencies in the sequence data. lstm_units sets the dimensionality of the LSTM's hidden state.\n",
        "return_sequences=True makes the LSTM output a sequence for each input sequence,\n",
        "  necessary for predicting the next amino acid at each position.  \n",
        "\n",
        "**Dense**: This is the output layer, with vocab_size neurons. It uses the 'softmax'\n",
        "  activation to produce a probability distribution over all possible amino acids,\n",
        "  representing the model's prediction for the next amino acid in the sequence.  \n",
        "\n",
        "**Adam**: An optimization algorithm that helps the model learn more effectively.  \n",
        "\n",
        "**compile**: Configures the model for training, specifying the loss function, optimizer, and evaluation metrics.  \n",
        "\n",
        "**model.summary()**: Prints a summary of the model's architecture.\n"
      ],
      "metadata": {
        "id": "83hil2MtuhRR"
      }
    },
    {
      "cell_type": "code",
      "source": [
        "model = Sequential()\n",
        "# Embedding layer: (vocab_size) distinct amino acid characters -> embedding_dim vectors\n",
        "embedding_dim = 8\n",
        "model.add(Embedding(input_dim=vocab_size, output_dim=embedding_dim, input_length=23))\n",
        "\n",
        "# LSTM layer\n",
        "lstm_units = 64\n",
        "model.add(LSTM(lstm_units, return_sequences=True))\n",
        "\n",
        "# Final Dense layer for classification over the vocabulary\n",
        "model.add(Dense(vocab_size, activation='softmax'))\n",
        "\n",
        "optimizer = Adam(learning_rate=0.01)\n",
        "model.compile(loss='sparse_categorical_crossentropy', optimizer=optimizer, metrics=['accuracy'])\n",
        "\n",
        "model.summary()\n",
        "\n"
      ],
      "metadata": {
        "id": "FQZ0iwdPuhij",
        "outputId": "7ba11efa-7c21-49e0-f33a-460d01ec200e",
        "colab": {
          "base_uri": "https://localhost:8080/",
          "height": 266
        }
      },
      "execution_count": 6,
      "outputs": [
        {
          "output_type": "stream",
          "name": "stderr",
          "text": [
            "/usr/local/lib/python3.11/dist-packages/keras/src/layers/core/embedding.py:90: UserWarning: Argument `input_length` is deprecated. Just remove it.\n",
            "  warnings.warn(\n"
          ]
        },
        {
          "output_type": "display_data",
          "data": {
            "text/plain": [
              "\u001b[1mModel: \"sequential\"\u001b[0m\n"
            ],
            "text/html": [
              "<pre style=\"white-space:pre;overflow-x:auto;line-height:normal;font-family:Menlo,'DejaVu Sans Mono',consolas,'Courier New',monospace\"><span style=\"font-weight: bold\">Model: \"sequential\"</span>\n",
              "</pre>\n"
            ]
          },
          "metadata": {}
        },
        {
          "output_type": "display_data",
          "data": {
            "text/plain": [
              "┏━━━━━━━━━━━━━━━━━━━━━━━━━━━━━━━━━━━━━━┳━━━━━━━━━━━━━━━━━━━━━━━━━━━━━┳━━━━━━━━━━━━━━━━━┓\n",
              "┃\u001b[1m \u001b[0m\u001b[1mLayer (type)                        \u001b[0m\u001b[1m \u001b[0m┃\u001b[1m \u001b[0m\u001b[1mOutput Shape               \u001b[0m\u001b[1m \u001b[0m┃\u001b[1m \u001b[0m\u001b[1m        Param #\u001b[0m\u001b[1m \u001b[0m┃\n",
              "┡━━━━━━━━━━━━━━━━━━━━━━━━━━━━━━━━━━━━━━╇━━━━━━━━━━━━━━━━━━━━━━━━━━━━━╇━━━━━━━━━━━━━━━━━┩\n",
              "│ embedding (\u001b[38;5;33mEmbedding\u001b[0m)                │ ?                           │     \u001b[38;5;34m0\u001b[0m (unbuilt) │\n",
              "├──────────────────────────────────────┼─────────────────────────────┼─────────────────┤\n",
              "│ lstm (\u001b[38;5;33mLSTM\u001b[0m)                          │ ?                           │     \u001b[38;5;34m0\u001b[0m (unbuilt) │\n",
              "├──────────────────────────────────────┼─────────────────────────────┼─────────────────┤\n",
              "│ dense (\u001b[38;5;33mDense\u001b[0m)                        │ ?                           │     \u001b[38;5;34m0\u001b[0m (unbuilt) │\n",
              "└──────────────────────────────────────┴─────────────────────────────┴─────────────────┘\n"
            ],
            "text/html": [
              "<pre style=\"white-space:pre;overflow-x:auto;line-height:normal;font-family:Menlo,'DejaVu Sans Mono',consolas,'Courier New',monospace\">┏━━━━━━━━━━━━━━━━━━━━━━━━━━━━━━━━━━━━━━┳━━━━━━━━━━━━━━━━━━━━━━━━━━━━━┳━━━━━━━━━━━━━━━━━┓\n",
              "┃<span style=\"font-weight: bold\"> Layer (type)                         </span>┃<span style=\"font-weight: bold\"> Output Shape                </span>┃<span style=\"font-weight: bold\">         Param # </span>┃\n",
              "┡━━━━━━━━━━━━━━━━━━━━━━━━━━━━━━━━━━━━━━╇━━━━━━━━━━━━━━━━━━━━━━━━━━━━━╇━━━━━━━━━━━━━━━━━┩\n",
              "│ embedding (<span style=\"color: #0087ff; text-decoration-color: #0087ff\">Embedding</span>)                │ ?                           │     <span style=\"color: #00af00; text-decoration-color: #00af00\">0</span> (unbuilt) │\n",
              "├──────────────────────────────────────┼─────────────────────────────┼─────────────────┤\n",
              "│ lstm (<span style=\"color: #0087ff; text-decoration-color: #0087ff\">LSTM</span>)                          │ ?                           │     <span style=\"color: #00af00; text-decoration-color: #00af00\">0</span> (unbuilt) │\n",
              "├──────────────────────────────────────┼─────────────────────────────┼─────────────────┤\n",
              "│ dense (<span style=\"color: #0087ff; text-decoration-color: #0087ff\">Dense</span>)                        │ ?                           │     <span style=\"color: #00af00; text-decoration-color: #00af00\">0</span> (unbuilt) │\n",
              "└──────────────────────────────────────┴─────────────────────────────┴─────────────────┘\n",
              "</pre>\n"
            ]
          },
          "metadata": {}
        },
        {
          "output_type": "display_data",
          "data": {
            "text/plain": [
              "\u001b[1m Total params: \u001b[0m\u001b[38;5;34m0\u001b[0m (0.00 B)\n"
            ],
            "text/html": [
              "<pre style=\"white-space:pre;overflow-x:auto;line-height:normal;font-family:Menlo,'DejaVu Sans Mono',consolas,'Courier New',monospace\"><span style=\"font-weight: bold\"> Total params: </span><span style=\"color: #00af00; text-decoration-color: #00af00\">0</span> (0.00 B)\n",
              "</pre>\n"
            ]
          },
          "metadata": {}
        },
        {
          "output_type": "display_data",
          "data": {
            "text/plain": [
              "\u001b[1m Trainable params: \u001b[0m\u001b[38;5;34m0\u001b[0m (0.00 B)\n"
            ],
            "text/html": [
              "<pre style=\"white-space:pre;overflow-x:auto;line-height:normal;font-family:Menlo,'DejaVu Sans Mono',consolas,'Courier New',monospace\"><span style=\"font-weight: bold\"> Trainable params: </span><span style=\"color: #00af00; text-decoration-color: #00af00\">0</span> (0.00 B)\n",
              "</pre>\n"
            ]
          },
          "metadata": {}
        },
        {
          "output_type": "display_data",
          "data": {
            "text/plain": [
              "\u001b[1m Non-trainable params: \u001b[0m\u001b[38;5;34m0\u001b[0m (0.00 B)\n"
            ],
            "text/html": [
              "<pre style=\"white-space:pre;overflow-x:auto;line-height:normal;font-family:Menlo,'DejaVu Sans Mono',consolas,'Courier New',monospace\"><span style=\"font-weight: bold\"> Non-trainable params: </span><span style=\"color: #00af00; text-decoration-color: #00af00\">0</span> (0.00 B)\n",
              "</pre>\n"
            ]
          },
          "metadata": {}
        }
      ]
    },
    {
      "cell_type": "markdown",
      "source": [
        "## 6. Train the model\n",
        "*Note: Because the dataset is small, this is primarily an illustrative example.*\n",
        "\n",
        "**X** and **y**: Represent the input and target data for training.\n",
        "  X contains the encoded AMP sequences shifted by one position,\n",
        "  and y contains the original encoded sequences shifted by one position to the right,\n",
        "  so the model learns to predict the next amino acid in the sequence.  \n",
        "**epochs**: The number of times the model sees the entire training dataset.  \n",
        "**batch_size**: The number of samples processed before the model's internal parameters are updated.  \n",
        "**model.fit**: Starts the training process.\n"
      ],
      "metadata": {
        "id": "9RDM9rczvWQL"
      }
    },
    {
      "cell_type": "code",
      "source": [
        "epochs = 50\n",
        "batch_size = 16\n",
        "model.fit(X, y, epochs=epochs, batch_size=batch_size)"
      ],
      "metadata": {
        "id": "11gg8CWnvWbs",
        "outputId": "824a08d6-db25-4bc8-9d3e-e247694ae672",
        "colab": {
          "base_uri": "https://localhost:8080/"
        }
      },
      "execution_count": 7,
      "outputs": [
        {
          "output_type": "stream",
          "name": "stdout",
          "text": [
            "Epoch 1/50\n",
            "\u001b[1m10/10\u001b[0m \u001b[32m━━━━━━━━━━━━━━━━━━━━\u001b[0m\u001b[37m\u001b[0m \u001b[1m9s\u001b[0m 21ms/step - accuracy: 0.1388 - loss: 2.8691\n",
            "Epoch 2/50\n",
            "\u001b[1m10/10\u001b[0m \u001b[32m━━━━━━━━━━━━━━━━━━━━\u001b[0m\u001b[37m\u001b[0m \u001b[1m1s\u001b[0m 20ms/step - accuracy: 0.1848 - loss: 2.6058\n",
            "Epoch 3/50\n",
            "\u001b[1m10/10\u001b[0m \u001b[32m━━━━━━━━━━━━━━━━━━━━\u001b[0m\u001b[37m\u001b[0m \u001b[1m0s\u001b[0m 22ms/step - accuracy: 0.2054 - loss: 2.5384\n",
            "Epoch 4/50\n",
            "\u001b[1m10/10\u001b[0m \u001b[32m━━━━━━━━━━━━━━━━━━━━\u001b[0m\u001b[37m\u001b[0m \u001b[1m0s\u001b[0m 20ms/step - accuracy: 0.2187 - loss: 2.4263\n",
            "Epoch 5/50\n",
            "\u001b[1m10/10\u001b[0m \u001b[32m━━━━━━━━━━━━━━━━━━━━\u001b[0m\u001b[37m\u001b[0m \u001b[1m0s\u001b[0m 18ms/step - accuracy: 0.2674 - loss: 2.3375\n",
            "Epoch 6/50\n",
            "\u001b[1m10/10\u001b[0m \u001b[32m━━━━━━━━━━━━━━━━━━━━\u001b[0m\u001b[37m\u001b[0m \u001b[1m0s\u001b[0m 22ms/step - accuracy: 0.3166 - loss: 2.1431\n",
            "Epoch 7/50\n",
            "\u001b[1m10/10\u001b[0m \u001b[32m━━━━━━━━━━━━━━━━━━━━\u001b[0m\u001b[37m\u001b[0m \u001b[1m0s\u001b[0m 15ms/step - accuracy: 0.3821 - loss: 2.0508\n",
            "Epoch 8/50\n",
            "\u001b[1m10/10\u001b[0m \u001b[32m━━━━━━━━━━━━━━━━━━━━\u001b[0m\u001b[37m\u001b[0m \u001b[1m0s\u001b[0m 14ms/step - accuracy: 0.4203 - loss: 1.9191\n",
            "Epoch 9/50\n",
            "\u001b[1m10/10\u001b[0m \u001b[32m━━━━━━━━━━━━━━━━━━━━\u001b[0m\u001b[37m\u001b[0m \u001b[1m0s\u001b[0m 13ms/step - accuracy: 0.4691 - loss: 1.7502\n",
            "Epoch 10/50\n",
            "\u001b[1m10/10\u001b[0m \u001b[32m━━━━━━━━━━━━━━━━━━━━\u001b[0m\u001b[37m\u001b[0m \u001b[1m0s\u001b[0m 14ms/step - accuracy: 0.4807 - loss: 1.7128\n",
            "Epoch 11/50\n",
            "\u001b[1m10/10\u001b[0m \u001b[32m━━━━━━━━━━━━━━━━━━━━\u001b[0m\u001b[37m\u001b[0m \u001b[1m0s\u001b[0m 13ms/step - accuracy: 0.5285 - loss: 1.5340\n",
            "Epoch 12/50\n",
            "\u001b[1m10/10\u001b[0m \u001b[32m━━━━━━━━━━━━━━━━━━━━\u001b[0m\u001b[37m\u001b[0m \u001b[1m0s\u001b[0m 13ms/step - accuracy: 0.5343 - loss: 1.5349\n",
            "Epoch 13/50\n",
            "\u001b[1m10/10\u001b[0m \u001b[32m━━━━━━━━━━━━━━━━━━━━\u001b[0m\u001b[37m\u001b[0m \u001b[1m0s\u001b[0m 14ms/step - accuracy: 0.5387 - loss: 1.4943\n",
            "Epoch 14/50\n",
            "\u001b[1m10/10\u001b[0m \u001b[32m━━━━━━━━━━━━━━━━━━━━\u001b[0m\u001b[37m\u001b[0m \u001b[1m0s\u001b[0m 13ms/step - accuracy: 0.5687 - loss: 1.3809\n",
            "Epoch 15/50\n",
            "\u001b[1m10/10\u001b[0m \u001b[32m━━━━━━━━━━━━━━━━━━━━\u001b[0m\u001b[37m\u001b[0m \u001b[1m0s\u001b[0m 13ms/step - accuracy: 0.5608 - loss: 1.4290\n",
            "Epoch 16/50\n",
            "\u001b[1m10/10\u001b[0m \u001b[32m━━━━━━━━━━━━━━━━━━━━\u001b[0m\u001b[37m\u001b[0m \u001b[1m0s\u001b[0m 16ms/step - accuracy: 0.6006 - loss: 1.2882\n",
            "Epoch 17/50\n",
            "\u001b[1m10/10\u001b[0m \u001b[32m━━━━━━━━━━━━━━━━━━━━\u001b[0m\u001b[37m\u001b[0m \u001b[1m0s\u001b[0m 14ms/step - accuracy: 0.5912 - loss: 1.3038\n",
            "Epoch 18/50\n",
            "\u001b[1m10/10\u001b[0m \u001b[32m━━━━━━━━━━━━━━━━━━━━\u001b[0m\u001b[37m\u001b[0m \u001b[1m0s\u001b[0m 13ms/step - accuracy: 0.6213 - loss: 1.2284\n",
            "Epoch 19/50\n",
            "\u001b[1m10/10\u001b[0m \u001b[32m━━━━━━━━━━━━━━━━━━━━\u001b[0m\u001b[37m\u001b[0m \u001b[1m0s\u001b[0m 14ms/step - accuracy: 0.6416 - loss: 1.1678\n",
            "Epoch 20/50\n",
            "\u001b[1m10/10\u001b[0m \u001b[32m━━━━━━━━━━━━━━━━━━━━\u001b[0m\u001b[37m\u001b[0m \u001b[1m0s\u001b[0m 19ms/step - accuracy: 0.6697 - loss: 1.0725\n",
            "Epoch 21/50\n",
            "\u001b[1m10/10\u001b[0m \u001b[32m━━━━━━━━━━━━━━━━━━━━\u001b[0m\u001b[37m\u001b[0m \u001b[1m0s\u001b[0m 13ms/step - accuracy: 0.6702 - loss: 1.0491\n",
            "Epoch 22/50\n",
            "\u001b[1m10/10\u001b[0m \u001b[32m━━━━━━━━━━━━━━━━━━━━\u001b[0m\u001b[37m\u001b[0m \u001b[1m0s\u001b[0m 13ms/step - accuracy: 0.6825 - loss: 1.0244\n",
            "Epoch 23/50\n",
            "\u001b[1m10/10\u001b[0m \u001b[32m━━━━━━━━━━━━━━━━━━━━\u001b[0m\u001b[37m\u001b[0m \u001b[1m0s\u001b[0m 13ms/step - accuracy: 0.6680 - loss: 1.0661\n",
            "Epoch 24/50\n",
            "\u001b[1m10/10\u001b[0m \u001b[32m━━━━━━━━━━━━━━━━━━━━\u001b[0m\u001b[37m\u001b[0m \u001b[1m0s\u001b[0m 13ms/step - accuracy: 0.7050 - loss: 0.9557\n",
            "Epoch 25/50\n",
            "\u001b[1m10/10\u001b[0m \u001b[32m━━━━━━━━━━━━━━━━━━━━\u001b[0m\u001b[37m\u001b[0m \u001b[1m0s\u001b[0m 15ms/step - accuracy: 0.7037 - loss: 0.9512\n",
            "Epoch 26/50\n",
            "\u001b[1m10/10\u001b[0m \u001b[32m━━━━━━━━━━━━━━━━━━━━\u001b[0m\u001b[37m\u001b[0m \u001b[1m0s\u001b[0m 13ms/step - accuracy: 0.7259 - loss: 0.9040\n",
            "Epoch 27/50\n",
            "\u001b[1m10/10\u001b[0m \u001b[32m━━━━━━━━━━━━━━━━━━━━\u001b[0m\u001b[37m\u001b[0m \u001b[1m0s\u001b[0m 13ms/step - accuracy: 0.7295 - loss: 0.8707\n",
            "Epoch 28/50\n",
            "\u001b[1m10/10\u001b[0m \u001b[32m━━━━━━━━━━━━━━━━━━━━\u001b[0m\u001b[37m\u001b[0m \u001b[1m0s\u001b[0m 13ms/step - accuracy: 0.7458 - loss: 0.8364\n",
            "Epoch 29/50\n",
            "\u001b[1m10/10\u001b[0m \u001b[32m━━━━━━━━━━━━━━━━━━━━\u001b[0m\u001b[37m\u001b[0m \u001b[1m0s\u001b[0m 14ms/step - accuracy: 0.7399 - loss: 0.8451\n",
            "Epoch 30/50\n",
            "\u001b[1m10/10\u001b[0m \u001b[32m━━━━━━━━━━━━━━━━━━━━\u001b[0m\u001b[37m\u001b[0m \u001b[1m0s\u001b[0m 15ms/step - accuracy: 0.7527 - loss: 0.7886\n",
            "Epoch 31/50\n",
            "\u001b[1m10/10\u001b[0m \u001b[32m━━━━━━━━━━━━━━━━━━━━\u001b[0m\u001b[37m\u001b[0m \u001b[1m0s\u001b[0m 13ms/step - accuracy: 0.7791 - loss: 0.7243\n",
            "Epoch 32/50\n",
            "\u001b[1m10/10\u001b[0m \u001b[32m━━━━━━━━━━━━━━━━━━━━\u001b[0m\u001b[37m\u001b[0m \u001b[1m0s\u001b[0m 13ms/step - accuracy: 0.7829 - loss: 0.7223\n",
            "Epoch 33/50\n",
            "\u001b[1m10/10\u001b[0m \u001b[32m━━━━━━━━━━━━━━━━━━━━\u001b[0m\u001b[37m\u001b[0m \u001b[1m0s\u001b[0m 13ms/step - accuracy: 0.7963 - loss: 0.6780\n",
            "Epoch 34/50\n",
            "\u001b[1m10/10\u001b[0m \u001b[32m━━━━━━━━━━━━━━━━━━━━\u001b[0m\u001b[37m\u001b[0m \u001b[1m0s\u001b[0m 15ms/step - accuracy: 0.8042 - loss: 0.6371\n",
            "Epoch 35/50\n",
            "\u001b[1m10/10\u001b[0m \u001b[32m━━━━━━━━━━━━━━━━━━━━\u001b[0m\u001b[37m\u001b[0m \u001b[1m0s\u001b[0m 14ms/step - accuracy: 0.8134 - loss: 0.6484\n",
            "Epoch 36/50\n",
            "\u001b[1m10/10\u001b[0m \u001b[32m━━━━━━━━━━━━━━━━━━━━\u001b[0m\u001b[37m\u001b[0m \u001b[1m0s\u001b[0m 13ms/step - accuracy: 0.8087 - loss: 0.6449\n",
            "Epoch 37/50\n",
            "\u001b[1m10/10\u001b[0m \u001b[32m━━━━━━━━━━━━━━━━━━━━\u001b[0m\u001b[37m\u001b[0m \u001b[1m0s\u001b[0m 13ms/step - accuracy: 0.8147 - loss: 0.6473\n",
            "Epoch 38/50\n",
            "\u001b[1m10/10\u001b[0m \u001b[32m━━━━━━━━━━━━━━━━━━━━\u001b[0m\u001b[37m\u001b[0m \u001b[1m0s\u001b[0m 13ms/step - accuracy: 0.8085 - loss: 0.6507\n",
            "Epoch 39/50\n",
            "\u001b[1m10/10\u001b[0m \u001b[32m━━━━━━━━━━━━━━━━━━━━\u001b[0m\u001b[37m\u001b[0m \u001b[1m0s\u001b[0m 15ms/step - accuracy: 0.8283 - loss: 0.5851\n",
            "Epoch 40/50\n",
            "\u001b[1m10/10\u001b[0m \u001b[32m━━━━━━━━━━━━━━━━━━━━\u001b[0m\u001b[37m\u001b[0m \u001b[1m0s\u001b[0m 13ms/step - accuracy: 0.8531 - loss: 0.5010\n",
            "Epoch 41/50\n",
            "\u001b[1m10/10\u001b[0m \u001b[32m━━━━━━━━━━━━━━━━━━━━\u001b[0m\u001b[37m\u001b[0m \u001b[1m0s\u001b[0m 13ms/step - accuracy: 0.8573 - loss: 0.4950\n",
            "Epoch 42/50\n",
            "\u001b[1m10/10\u001b[0m \u001b[32m━━━━━━━━━━━━━━━━━━━━\u001b[0m\u001b[37m\u001b[0m \u001b[1m0s\u001b[0m 13ms/step - accuracy: 0.8614 - loss: 0.4802\n",
            "Epoch 43/50\n",
            "\u001b[1m10/10\u001b[0m \u001b[32m━━━━━━━━━━━━━━━━━━━━\u001b[0m\u001b[37m\u001b[0m \u001b[1m0s\u001b[0m 24ms/step - accuracy: 0.8651 - loss: 0.4756\n",
            "Epoch 44/50\n",
            "\u001b[1m10/10\u001b[0m \u001b[32m━━━━━━━━━━━━━━━━━━━━\u001b[0m\u001b[37m\u001b[0m \u001b[1m0s\u001b[0m 23ms/step - accuracy: 0.8664 - loss: 0.5066\n",
            "Epoch 45/50\n",
            "\u001b[1m10/10\u001b[0m \u001b[32m━━━━━━━━━━━━━━━━━━━━\u001b[0m\u001b[37m\u001b[0m \u001b[1m0s\u001b[0m 22ms/step - accuracy: 0.8622 - loss: 0.4567\n",
            "Epoch 46/50\n",
            "\u001b[1m10/10\u001b[0m \u001b[32m━━━━━━━━━━━━━━━━━━━━\u001b[0m\u001b[37m\u001b[0m \u001b[1m0s\u001b[0m 22ms/step - accuracy: 0.8748 - loss: 0.4402\n",
            "Epoch 47/50\n",
            "\u001b[1m10/10\u001b[0m \u001b[32m━━━━━━━━━━━━━━━━━━━━\u001b[0m\u001b[37m\u001b[0m \u001b[1m0s\u001b[0m 21ms/step - accuracy: 0.8919 - loss: 0.4170\n",
            "Epoch 48/50\n",
            "\u001b[1m10/10\u001b[0m \u001b[32m━━━━━━━━━━━━━━━━━━━━\u001b[0m\u001b[37m\u001b[0m \u001b[1m0s\u001b[0m 22ms/step - accuracy: 0.8864 - loss: 0.4062\n",
            "Epoch 49/50\n",
            "\u001b[1m10/10\u001b[0m \u001b[32m━━━━━━━━━━━━━━━━━━━━\u001b[0m\u001b[37m\u001b[0m \u001b[1m0s\u001b[0m 24ms/step - accuracy: 0.8909 - loss: 0.3785\n",
            "Epoch 50/50\n",
            "\u001b[1m10/10\u001b[0m \u001b[32m━━━━━━━━━━━━━━━━━━━━\u001b[0m\u001b[37m\u001b[0m \u001b[1m0s\u001b[0m 23ms/step - accuracy: 0.8925 - loss: 0.3836\n"
          ]
        },
        {
          "output_type": "execute_result",
          "data": {
            "text/plain": [
              "<keras.src.callbacks.history.History at 0x7b2a05d23ad0>"
            ]
          },
          "metadata": {},
          "execution_count": 7
        }
      ]
    },
    {
      "cell_type": "markdown",
      "source": [
        "## 7. Generating new sequences\n",
        "\n",
        "**generate_sequence**: This function takes the trained model, a starting sequence (seed_seq),\n",
        "  and a desired sequence length as input. It uses the model to predict the next amino acid step-by-step, generating a new sequence.  \n",
        "**seed**: The starting point for sequence generation, in this case, the amino acid 'F'.  \n",
        "The loop runs 20 times, generating and printing 20 new AMP sequences.\n"
      ],
      "metadata": {
        "id": "ogLMBfZOvsVe"
      }
    },
    {
      "cell_type": "code",
      "source": [
        "def generate_sequence(model, seed_seq, length=24):\n",
        "    \"\"\"\n",
        "    Generate a new sequence of desired length using the trained model.\n",
        "    :param model: trained LSTM model\n",
        "    :param seed_seq: list of integer-encoded amino acids (starting sequence)\n",
        "    :param length: desired total length of generated sequence\n",
        "    :return: string of amino acids\n",
        "    \"\"\"\n",
        "    generated = seed_seq[:]  # copy\n",
        "\n",
        "    for _ in range(length - len(seed_seq)):\n",
        "        # Predict next amino acid distribution\n",
        "        input_seq = np.array(generated[-1:])  # last amino acid as input\n",
        "        input_seq = input_seq.reshape(1, -1)  # shape: (1, 1)\n",
        "\n",
        "        # Model expects a fixed input length of 23 for each training example,\n",
        "        # so for generation, we can adapt in different ways.\n",
        "        # Simplest approach: pad/truncate to length=23 and only use last token for the next prediction\n",
        "        # We'll do a simple approach:\n",
        "        padded_seq = np.zeros((1, 23))\n",
        "        padded_seq[0, 22] = input_seq[0, 0]\n",
        "\n",
        "        # Predict\n",
        "        preds = model.predict(padded_seq, verbose=0)[0, 22, :]\n",
        "\n",
        "        next_idx = np.random.choice(range(vocab_size), p=preds)\n",
        "        generated.append(next_idx)\n",
        "\n",
        "    # Convert generated integer tokens to string\n",
        "    generated_str = \"\".join(idx_to_char[idx] for idx in generated)\n",
        "    return generated_str\n",
        "\n",
        "# Example usage:\n",
        "# Start generation from a single amino acid: 'F'\n",
        "seed = [char_to_idx['F']]  # or choose any valid token from your vocab\n",
        "for i in range(20):\n",
        "    new_peptide = generate_sequence(model, seed, length=24)\n",
        "    print(\"Generated Peptide:\", new_peptide)"
      ],
      "metadata": {
        "id": "NWkcJIZIvscB",
        "outputId": "debc0740-5ad1-45d0-aae2-fd3a9f48269a",
        "colab": {
          "base_uri": "https://localhost:8080/"
        }
      },
      "execution_count": 8,
      "outputs": [
        {
          "output_type": "stream",
          "name": "stdout",
          "text": [
            "Generated Peptide: FKKNKNNKLKKKKFNNKNKNKKKG\n",
            "Generated Peptide: FKNKNKNNKKNNKKKKNKKNNKLG\n",
            "Generated Peptide: FKNKKNNKSKKNKFKLFKKNKNNN\n",
            "Generated Peptide: FKNNKKKKLKFNKKKNKKNNKGKK\n",
            "Generated Peptide: FKKLKKKKNNKNKKNKKFKNKFKK\n",
            "Generated Peptide: FKNKLKFKGKGKKKKNNNNNKNKN\n",
            "Generated Peptide: FKKKKKKNNKNNKFKFKNKNKFKF\n",
            "Generated Peptide: FKKKNKNKNKKKLKKNKGKKGNKK\n",
            "Generated Peptide: FKKNKKLKNNKNNNNKNKKFKGNN\n",
            "Generated Peptide: FKNNKNKKNNKVGKKFKFKKNKNK\n",
            "Generated Peptide: FKVKFKKKLNNKLKNNNNKKKKLK\n",
            "Generated Peptide: FKFKKKNNNGNNKKKNKFKKNNGK\n",
            "Generated Peptide: FKKFKKNKKKNKNNNKKNKNKFKN\n",
            "Generated Peptide: FKKGNKKVKNKKNKKVKKGKKNKN\n",
            "Generated Peptide: FKKNNKVKKKNNKKKNKLKNNKLG\n",
            "Generated Peptide: FKFKKKNKFKVKKKKKFKKKNNKK\n",
            "Generated Peptide: FKFKNKKFKNKNKNKKKNKFNKNN\n",
            "Generated Peptide: FKFKKVGKKNKNGNKNKNKKKKFK\n",
            "Generated Peptide: FCKGNNKNNNNKNNKGKFKKNKGK\n",
            "Generated Peptide: FKKKKFKNKKKNKKKKFKKKLKFK\n"
          ]
        }
      ]
    },
    {
      "cell_type": "markdown",
      "source": [
        "###LSTM Generated AMP Sequences (previously generated):\n",
        "\n"
      ],
      "metadata": {
        "id": "_z7lj0AsrWqD"
      }
    },
    {
      "cell_type": "code",
      "source": [
        "'''\n",
        "FLLRYYLRFRYLRFLRYLRYYYYL\n",
        "FLCRYYCRYYYLRRYCNYFLNLNL\n",
        "FLRFCRYYYLGYYLLRFRYYLRRY\n",
        "FLRYCRYYFGLLRYLRYLRYCRYL\n",
        "FLRYLRYYYYCRFLRFLRYCRYLR\n",
        "FYCRFRYLRKYLRYYYLRYYYRFR\n",
        "FCNRYRYRYYRYYYLLFRYYYYLR\n",
        "FLCRYCRYYYYYLRFSRFRRYYCR\n",
        "FCRYCRYRYLCLRCRRYYLRRYLR\n",
        "FLRLRLRRYLRLLRYCRFLRYYYL\n",
        "FRYRYLRRYYFYCRLCRYLRYCRY\n",
        "FCRYYYYRYCRYLRYYYLGYLRYL\n",
        "FRYYLRFLRFCRRLRYLCRCRYRY\n",
        "FLRYYYCRRYCRYCKYLGYCRRFR\n",
        "FCRYCRYMNYFLRFLRYRFRYYYF\n",
        "FRYYRYYYYYLLRYYYRRRCRYCR\n",
        "FCNLYCRFCRFLRCLRYYYCRYRY\n",
        "FCRRYLRYYYYYYYCRYLRYLRYY\n",
        "FCRYMNLRRRLRYYLCRYCRYRYR\n",
        "FLRRYYRCNRFLRYFYYLRYLRRY\n",
        "'''"
      ],
      "metadata": {
        "id": "qcgiLLCZk4oh",
        "outputId": "a10c1d67-af84-4a8b-fa4f-f45a4c7e839c",
        "colab": {
          "base_uri": "https://localhost:8080/",
          "height": 70
        }
      },
      "execution_count": 9,
      "outputs": [
        {
          "output_type": "execute_result",
          "data": {
            "text/plain": [
              "'\\nFLLRYYLRFRYLRFLRYLRYYYYL\\nFLCRYYCRYYYLRRYCNYFLNLNL\\nFLRFCRYYYLGYYLLRFRYYLRRY\\nFLRYCRYYFGLLRYLRYLRYCRYL\\nFLRYLRYYYYCRFLRFLRYCRYLR\\nFYCRFRYLRKYLRYYYLRYYYRFR\\nFCNRYRYRYYRYYYLLFRYYYYLR\\nFLCRYCRYYYYYLRFSRFRRYYCR\\nFCRYCRYRYLCLRCRRYYLRRYLR\\nFLRLRLRRYLRLLRYCRFLRYYYL\\nFRYRYLRRYYFYCRLCRYLRYCRY\\nFCRYYYYRYCRYLRYYYLGYLRYL\\nFRYYLRFLRFCRRLRYLCRCRYRY\\nFLRYYYCRRYCRYCKYLGYCRRFR\\nFCRYCRYMNYFLRFLRYRFRYYYF\\nFRYYRYYYYYLLRYYYRRRCRYCR\\nFCNLYCRFCRFLRCLRYYYCRYRY\\nFCRRYLRYYYYYYYCRYLRYLRYY\\nFCRYMNLRRRLRYYLCRYCRYRYR\\nFLRRYYRCNRFLRYFYYLRYLRRY\\n'"
            ],
            "application/vnd.google.colaboratory.intrinsic+json": {
              "type": "string"
            }
          },
          "metadata": {},
          "execution_count": 9
        }
      ]
    },
    {
      "cell_type": "markdown",
      "source": [
        "#Transformer Generative Model for Antimicrobial Peptides\n",
        "===============================================================================\n",
        "\n",
        "This script demonstrates a simplified Transformer for generating short protein sequences.\n",
        "\n",
        "\n"
      ],
      "metadata": {
        "id": "TNx2SwNVBi3S"
      }
    },
    {
      "cell_type": "code",
      "source": [
        "import numpy as np\n",
        "import tensorflow as tf\n",
        "from tensorflow.keras import layers\n",
        "from tensorflow.keras.models import Model\n"
      ],
      "metadata": {
        "id": "ckbXoMRjanLS"
      },
      "execution_count": 10,
      "outputs": []
    },
    {
      "cell_type": "markdown",
      "source": [
        "##1. Antimicrobial Peptide Sequence Database  \n",
        "**amp_sequences**: list of the AMP protein sequences the model will learn from."
      ],
      "metadata": {
        "id": "dMCcoLoianU1"
      }
    },
    {
      "cell_type": "code",
      "source": [
        "amp_sequences = [\n",
        "            'FLPLLAGLAANFLPTIICKISYKC',\n",
        "            'FLPFIARLAAKVFPSIICSVTKKC',\n",
        "            'GVLSNVIGYLKKLGTGALNAVLKQ',\n",
        "            'GLFSVLGAVAKHVLPHVVPVIAEK',\n",
        "            'GLFKVLGSVAKHLLPHVAPVIAEK',\n",
        "            'GLFKVLGSVAKHLLPHVVPVIAEK',\n",
        "            'GLFGVLGSIAKHVLPHVVPVIAEK',\n",
        "            'MFFSSKKCKTVSKTFRGPCVRNAN',\n",
        "            'LLKELWTKMKGAGKAVLGKIKGLL',\n",
        "            'LLKELWTKIKGAGKAVLGKIKGLL',\n",
        "            'FWGALIKGAAKLIPSVVGLFKKKQ',\n",
        "            'FLPVVAGLAAKVLPSIICAVTKKC',\n",
        "            'FLPAIVGAAGQFLPKIFCAISKKC',\n",
        "            'FLPAIVGAAGKFLPKIFCAISKKC',\n",
        "            'FFPIVAGVAGQVLKKIYCTISKKC',\n",
        "            'FLPIIAGIAAKVFPKIFCAISKKC',\n",
        "            'FLPMLAGLAASMVPKLVCLITKKC',\n",
        "            'FLPMLAGLAASMVPKFVCLITKKC',\n",
        "            'FLPFIAGMAAKFLPKIFCAISKKC',\n",
        "            'FLPAIAGMAAKFLPKIFCAISKKC',\n",
        "            'FLPFIAGVAAKFLPKIFCAISKKC',\n",
        "            'FLPAIAGVAAKFLPKIFCAISKKC',\n",
        "            'FLPAIVGAAAKFLPKIFCVISKKC',\n",
        "            'FLPFIAGMAANFLPKIFCAISKKC',\n",
        "            'FLPIIAGVAAKVFPKIFCAISKKC',\n",
        "            'FLPIIASVAAKVFSKIFCAISKKC',\n",
        "            'FLPIIASVAANVFSKIFCAISKKC',\n",
        "            'GLNTLKKVFQGLHEAIKLINNHVQ',\n",
        "            'GLNALKKVFQGIHEAIKLINNHVQ',\n",
        "            'DSHAKRHHGYKRKFHEKHHSHRGY',\n",
        "            'FLPLLAGLAANFLPKIFCKITKKC',\n",
        "            'FLPILAGLAAKIVPKLFCLATKKC',\n",
        "            'FLPLIAGLAANFLPKIFCAITKKC',\n",
        "            'FLPVIAGVAAKFLPKIFCAITKKC',\n",
        "            'FWGALAKGALKLIPSLFSSFSKKD',\n",
        "            'ITSVSWCTPGCTSEGGGSGCSHCC',\n",
        "            'GLLNGLALRLGKRALKKIIKRLCR',\n",
        "            'ALWKDILKNAGKAALNEINQLVNQ',\n",
        "            'GLRSKIWLWVLLMIWQESNKFKKM',\n",
        "            'GKGRWLERIGKAGGIIIGGALDHL',\n",
        "            'FLGALIKGAIHGGRFIHGMIQNHH',\n",
        "            'FLGLLFHGVHHVGKWIHGLIHGHH',\n",
        "            'FLPMLAGLAANFLPKLFCKITKKC',\n",
        "            'FLPLAVSLAANFLPKLFCKITKKC',\n",
        "            'FLPLLAGLAANFFPKIFCKITRKC',\n",
        "            'FLPILASLAAKFGPKLFCLVTKKC',\n",
        "            'FLPILASLAAKLGPKLFCLVTKKC',\n",
        "            'FLPILASLAATLGPKLLCLITKKC',\n",
        "            'GIFSNMYARTPAGYFRGPAGYAAN',\n",
        "            'GLKDKFKSMGEKLKQYIQTWKAKF',\n",
        "            'SLKDKVKSMGEKLKQYIQTWKAKF',\n",
        "            'GFRDVLKGAAKAFVKTVAGHIANI',\n",
        "            'GIKDWIKGAAKKLIKTVASNIANQ',\n",
        "            'GFKDWIKGAAKKLIKTVASSIANQ',\n",
        "            'VIPFVASVAAEMMQHVYCAASKKC',\n",
        "            'FFGTALKIAANVLPTAICKILKKC',\n",
        "            'FFGTALKIAANILPTAICKILKKC',\n",
        "            'ILPFVAGVAAEMMQHVYCAASKKC',\n",
        "            'FLPAIVGAAAKFLPKIFCAISKKC',\n",
        "            'FLPIIAGVAAKVLPKIFCAISKKC',\n",
        "            'FLPIIAGIAAKFLPKIFCTISKKC',\n",
        "            'FLPVIAGVAANFLPKLFCAISKKC',\n",
        "            'FLPIIAGAAAKVVQKIFCAISKKC',\n",
        "            'FLPIIAGAAAKVVEKIFCAISKKC',\n",
        "            'FLPAVLRVAAKIVPTVFCAISKKC',\n",
        "            'FLPAVLRVAAQVVPTVFCAISKKC',\n",
        "            'FMGGLIKAATKIVPAAYCAITKKC',\n",
        "            'FLPILAGLAAKLVPKVFCSITKKC',\n",
        "            'FLPILAGLAANILPKVFCSITKKC',\n",
        "            'FFPIIAGMAAKLIPSLFCKITKKC',\n",
        "            'FMGSALRIAAKVLPAALCQIFKKC',\n",
        "            'DSHEKRHHEHRRKFHEKHHSHRGY',\n",
        "            'WRSLGRTLLRLSHALKPLARRSGW',\n",
        "            'VTSWSLCTPGCTSPGGGSNCSFCC',\n",
        "            'VIPFVASVAAEMMHHVYCAASKRC',\n",
        "            'SPAGCRFCCGCCPNMRGCGVCCRF',\n",
        "            'GRGREFMSNLKEKLSGVKEKMKNS',\n",
        "            'FLPVLTGLTPSIVPKLVCLLTKKC',\n",
        "            'FLPVLAGLTPSIVPKLVCLLTKKC',\n",
        "            'FFPMLAGVAARVVPKVICLITKKC',\n",
        "            'DSMGAVKLAKLLIDKMKCEVTKAC',\n",
        "            'FLPGVLRLVTKVGPAVVCAITRNC',\n",
        "            'VIVFVASVAAEMMQHVYCAASKKC',\n",
        "            'FLPAVIRVAANVLPTAFCAISKKC',\n",
        "            'IDPFVAGVAAEMMQHVYCAASKKC',\n",
        "            'INPFVAGVAAEMMQHVYCAASKKC',\n",
        "            'ILPFVAGVAAEMMKHVYCAASKKC',\n",
        "            'IIPFVAGVAAEMMEHVYCAASKKC',\n",
        "            'QLPFVAGVACEMCQCVYCAASKKC',\n",
        "            'ILPFVAGVAAEMMEHVYCAASKKC',\n",
        "            'ILPFVAGVAAMEMEHVYCAASKKC',\n",
        "            'FLPAVLLVATHVLPTVFCAITRKC',\n",
        "            'IPWKLPATFRPVERPFSKPFCRKD',\n",
        "            'FLPLLAGVVANFLPQIICKIARKC',\n",
        "            'FLGSLLGLVGKVVPTLFCKISKKC',\n",
        "            'FIGPVLKIAAGILPTAICKIFKKC',\n",
        "            'FVGPVLKIAAGILPTAICKIYKKC',\n",
        "            'FLGPIIKIATGILPTAICKFLKKC',\n",
        "            'FLPLIASLAANFVPKIFCKITKKC',\n",
        "            'FLPLIASVAANLVPKIFCKITKKC',\n",
        "            'FLSTLLKVAFKVVPTLFCPITKKC',\n",
        "            'KRKCPKTPFDNTPGAWFAHLILGC',\n",
        "            'FLGLIFHGLVHAGKLIHGLIHRNR',\n",
        "            'FLPAVIRVAANVLPTVFCAISKKC',\n",
        "            'FLPAVLRVAAKVVPTVFCLISKKC',\n",
        "            'FLSTALKVAANVVPTLFCKITKKC',\n",
        "            'FLPIVAGLAANFLPKIVCKITKKC',\n",
        "            'FLSTLLNVASNVVPTLICKITKKC',\n",
        "            'FLSTLLNVASKVVPTLFCKITKKC',\n",
        "            'FLPMLAGLAANFLPKIVCKITKKC',\n",
        "            'FIGPVLKMATSILPTAICKGFKKC',\n",
        "            'FLGPIIKMATGILPTAICKGLKKC',\n",
        "            'FLPIIAGVAAKVLPKLFCAITKKC',\n",
        "            'FLPVIAGLAAKVLPKLFCAITKKC',\n",
        "            'RKGWFKAMKSIAKFIAKEKLKEHL',\n",
        "            'FLPAVLKVAAHILPTAICAISRRC',\n",
        "            'FMGTALKIAANVLPAAFCKIFKKC',\n",
        "            'KLGFENFLVKALKTVMHVPTSPLL',\n",
        "            'GWLPTFGKILRKAMQLGPKLIQPI',\n",
        "            'GNGVVLTLTHECNLATWTKKLKCC',\n",
        "            'ITIPPIVKNTLKKFIKGAVSALMS',\n",
        "            'FLPGLIKAAVGVGSTILCKITKKC',\n",
        "            'FLPGLIKAAVGIGSTIFCKISKKC',\n",
        "            'FLPGLIKVAVGVGSTILCKITKKC',\n",
        "            'FLPGLIKAAVGIGSTIFCKISRKC',\n",
        "            'FLPMLAGLAANFLPKIICKITKKC',\n",
        "            'FLPIVASLAANFLPKIICKITKKC',\n",
        "            'FWGALAKGALKLIPSLVSSFTKKD',\n",
        "            'FFPLIAGLAARFLPKIFCSITKRC',\n",
        "            'VIPFVASVAAEMMQHVYCAASKRC',\n",
        "            'FFPSIAGLAAKFLPKIFCSITKRC',\n",
        "            'FLPAVLRVAAKVGPAVFCAITQKC',\n",
        "            'FLGMLLHGVGHAIHGLIHGKQNVE',\n",
        "            'NPAGCRFCCGCCPNMIGCGVCCRF',\n",
        "            'IWSFLIKAATKLLPSLFGGGKKDS',\n",
        "            'RNGCIVDPRCPYQQCRRPLYCRRR',\n",
        "            'ILELAGNAARDNKKTRIIPRHLQL',\n",
        "            'FLPLLAGLAANFLPTIICKIARKC',\n",
        "            'FLPAIIGMAAKVLPAFLCKITKKC',\n",
        "            'RRRRRFRRVIRRIRLPKYLTINTE',\n",
        "            'GNGVLKTISHECNMNTWQFLFTCC',\n",
        "            'FLPILAGLAANLVPKLICSITKKC',\n",
        "            'FLGAVLKVAGKLVPAAICKISKKC',\n",
        "            'FLGALFKVASKLVPAAICSISKKC',\n",
        "            'FLPVIAGIAANVLPKLFCKLTKRC',\n",
        "            'FFPIIARLAAKVIPSLVCAVTKKC',\n",
        "            'KRVNWRKVGRNTALGASYVLSFLG',\n",
        "            'GHSVDRIPEYFGPPGLPGPVLFYS',\n",
        "            'FLPLIAGVAAKVLPKIFCAISKKC',\n",
        "            'SDSVVSDIICTTFCSVTWCQSNCC',\n",
        "            'FLPLLAGLAANFLPQIICKIARKC',\n",
        "            'FLGTVLKVAAKVLPAALCQIFKKC',\n",
        "            'QSHLSMCRYCCCKGNKGCGFCCKF',\n",
        "            'VFDIIKDAGKQLVAHAMGKIAEKV',\n",
        "            'VFDIIKDAGRQLVAHAMGKIAEKV',\n",
        "            'FLPLLAGLAASFLPTIFCKISRKC',\n",
        "            'FFPIVAGVAAKVLKKIFCTISKKC',\n",
        "    # ...\n",
        "]\n"
      ],
      "metadata": {
        "id": "27zLJ-7SaneJ"
      },
      "execution_count": 11,
      "outputs": []
    },
    {
      "cell_type": "markdown",
      "source": [
        "##2. Build character-to-index mapping  \n",
        "**unique_amino_acids**: This extracts all the unique characters (amino acid letters) from the sequences.  \n",
        "**char_to_idx**: This dictionary maps each amino acid character to a unique numerical index (e.g., 'F' might be 0, 'L' might be 1, etc.).  \n",
        "**idx_to_char**: This dictionary does the reverse, mapping numerical indices back to amino acid characters.  \n",
        "**vocab_size**: This stores the total number of unique amino acids in the dataset."
      ],
      "metadata": {
        "id": "yDJ8ggtgannI"
      }
    },
    {
      "cell_type": "code",
      "source": [
        "unique_amino_acids = sorted(list(set(\"\".join(amp_sequences))))\n",
        "char_to_idx = {char: idx for idx, char in enumerate(unique_amino_acids)}\n",
        "idx_to_char = {idx: char for char, idx in char_to_idx.items()}\n",
        "vocab_size = len(unique_amino_acids)"
      ],
      "metadata": {
        "id": "wemkDwzOanxB"
      },
      "execution_count": 12,
      "outputs": []
    },
    {
      "cell_type": "markdown",
      "source": [
        "##3. Convert to integer arrays  \n",
        "**encoded_sequences**: This converts the original protein sequences (amp_sequences) into numerical representations using the **char_to_idx** mapping.\n",
        "  Each amino acid is replaced with its corresponding index.  \n",
        "**seq_length**: This sets the maximum length of the sequences the model will handle\n",
        "  (24 amino acids in this case).  \n",
        "**X** and **y**: These are created to train the model. **X** contains the input sequences\n",
        "  (all but the last amino acid), and y contains the target sequences (all but the first amino acid). This setup is for next-token prediction, where the model learns to predict the next amino acid in a sequence.  \n"
      ],
      "metadata": {
        "id": "fQgO5IL-an6l"
      }
    },
    {
      "cell_type": "code",
      "source": [
        "encoded_sequences = []\n",
        "for seq in amp_sequences:\n",
        "    encoded_sequences.append([char_to_idx[c] for c in seq])\n",
        "encoded_sequences = np.array(encoded_sequences)  # shape: (num_sequences, seq_length)\n",
        "\n",
        "# Prepare training data for next-token prediction\n",
        "seq_length = 24\n",
        "X = encoded_sequences[:, :-1]  # shape: (num_sequences, seq_length-1)\n",
        "y = encoded_sequences[:, 1:]   # shape: (num_sequences, seq_length-1)\n",
        "\n"
      ],
      "metadata": {
        "id": "vFIhpctXbuDX"
      },
      "execution_count": 13,
      "outputs": []
    },
    {
      "cell_type": "markdown",
      "source": [
        "##4. Build a small Transformer model  \n",
        "We'll define the input, embedding, transformer block, and final dense layer.  \n",
        "This section defines the architecture of the Transformer model using TensorFlow's Keras API.  \n",
        "**embedding_dim**, **num_heads**, **ff_dim**: These are hyperparameters that control the size and complexity of the model.\n",
        "The model consists of an input layer, an embedding layer (to represent amino acids as vectors),\n",
        "  a positional encoding layer (to provide information about the order of amino acids),\n",
        "  a transformer encoder block (the core of the model for learning relationships between amino acids),\n",
        "  and a final dense layer (to output predictions for the next amino acid).  \n",
        "**model.compile**: This configures the model for training, specifying the optimizer (adam),\n",
        "  loss function (sparse_categorical_crossentropy), and metrics to track (accuracy).  \n",
        "**model.summary()**: This displays a summary of the model's architecture.  "
      ],
      "metadata": {
        "id": "p6tkK6F0buU6"
      }
    },
    {
      "cell_type": "code",
      "source": [
        "embedding_dim = 16\n",
        "num_heads = 2\n",
        "ff_dim = 32  # feed-forward layer size in transformer\n",
        "\n",
        "# Define Input\n",
        "inputs = layers.Input(shape=(seq_length-1,))  # each example is length-1 = 23\n",
        "\n",
        "# Token Embedding + Positional Embedding\n",
        "token_embedding = layers.Embedding(input_dim=vocab_size, output_dim=embedding_dim)(inputs)\n",
        "\n",
        "# Basic positional encoding\n",
        "positions = tf.range(start=0, limit=seq_length-1, delta=1)\n",
        "positional_encoding = layers.Embedding(input_dim=seq_length, output_dim=embedding_dim)(positions)\n",
        "positional_encoding = positional_encoding[None, ...]  # shape: (1, seq_length-1, embedding_dim)\n",
        "\n",
        "# Add token embedding and positional encoding\n",
        "x = token_embedding + positional_encoding\n",
        "\n"
      ],
      "metadata": {
        "id": "TS5qXnEUcLgK"
      },
      "execution_count": 14,
      "outputs": []
    },
    {
      "cell_type": "markdown",
      "source": [
        "###Transformer Encoder Block (simplified)  \n",
        "This is where self-attention is handled\n",
        "The model uses query, key, and attention weighting, although implicitly.  \n",
        "The **layers.MultiHeadAttention** layer handles these steps internally.  \n",
        "By passing x as both the query and the key/value (using (x, x)), the model is essentially performing self-attention, comparing different parts of the input sequence with itself.  \n",
        "The **key_dim** argument specifies the dimensionality of the keys and queries, influencing the complexity of the attention calculations.\n"
      ],
      "metadata": {
        "id": "Uvf4XNSfcLs1"
      }
    },
    {
      "cell_type": "code",
      "source": [
        "attention_output = layers.MultiHeadAttention(num_heads=num_heads, key_dim=embedding_dim)(x, x)\n",
        "attention_output = layers.Dropout(0.1)(attention_output)\n",
        "x = layers.LayerNormalization(epsilon=1e-6)(x + attention_output)\n",
        "\n",
        "ffn = layers.Dense(ff_dim, activation='relu')(x)\n",
        "ffn = layers.Dense(embedding_dim)(ffn)\n",
        "ffn = layers.Dropout(0.1)(ffn)\n",
        "x = layers.LayerNormalization(epsilon=1e-6)(x + ffn)\n",
        "\n",
        "# Final Dense Layer over vocab\n",
        "outputs = layers.Dense(vocab_size, activation='softmax')(x)\n",
        "\n",
        "model = Model(inputs=inputs, outputs=outputs)\n",
        "model.compile(optimizer='adam', loss='sparse_categorical_crossentropy', metrics=['accuracy'])\n",
        "model.summary()\n"
      ],
      "metadata": {
        "colab": {
          "base_uri": "https://localhost:8080/",
          "height": 661
        },
        "id": "qCmXh8GqcL0k",
        "outputId": "5e6efef9-8e2a-43b0-cd7b-9f74ac6ce9fb"
      },
      "execution_count": 15,
      "outputs": [
        {
          "output_type": "display_data",
          "data": {
            "text/plain": [
              "\u001b[1mModel: \"functional_1\"\u001b[0m\n"
            ],
            "text/html": [
              "<pre style=\"white-space:pre;overflow-x:auto;line-height:normal;font-family:Menlo,'DejaVu Sans Mono',consolas,'Courier New',monospace\"><span style=\"font-weight: bold\">Model: \"functional_1\"</span>\n",
              "</pre>\n"
            ]
          },
          "metadata": {}
        },
        {
          "output_type": "display_data",
          "data": {
            "text/plain": [
              "┏━━━━━━━━━━━━━━━━━━━━━━━━━━━┳━━━━━━━━━━━━━━━━━━━━━━━━┳━━━━━━━━━━━━━━━━┳━━━━━━━━━━━━━━━━━━━━━━━━┓\n",
              "┃\u001b[1m \u001b[0m\u001b[1mLayer (type)             \u001b[0m\u001b[1m \u001b[0m┃\u001b[1m \u001b[0m\u001b[1mOutput Shape          \u001b[0m\u001b[1m \u001b[0m┃\u001b[1m \u001b[0m\u001b[1m       Param #\u001b[0m\u001b[1m \u001b[0m┃\u001b[1m \u001b[0m\u001b[1mConnected to          \u001b[0m\u001b[1m \u001b[0m┃\n",
              "┡━━━━━━━━━━━━━━━━━━━━━━━━━━━╇━━━━━━━━━━━━━━━━━━━━━━━━╇━━━━━━━━━━━━━━━━╇━━━━━━━━━━━━━━━━━━━━━━━━┩\n",
              "│ input_layer_1             │ (\u001b[38;5;45mNone\u001b[0m, \u001b[38;5;34m23\u001b[0m)             │              \u001b[38;5;34m0\u001b[0m │ -                      │\n",
              "│ (\u001b[38;5;33mInputLayer\u001b[0m)              │                        │                │                        │\n",
              "├───────────────────────────┼────────────────────────┼────────────────┼────────────────────────┤\n",
              "│ embedding_1 (\u001b[38;5;33mEmbedding\u001b[0m)   │ (\u001b[38;5;45mNone\u001b[0m, \u001b[38;5;34m23\u001b[0m, \u001b[38;5;34m16\u001b[0m)         │            \u001b[38;5;34m320\u001b[0m │ input_layer_1[\u001b[38;5;34m0\u001b[0m][\u001b[38;5;34m0\u001b[0m]    │\n",
              "├───────────────────────────┼────────────────────────┼────────────────┼────────────────────────┤\n",
              "│ add (\u001b[38;5;33mAdd\u001b[0m)                 │ (\u001b[38;5;45mNone\u001b[0m, \u001b[38;5;34m23\u001b[0m, \u001b[38;5;34m16\u001b[0m)         │              \u001b[38;5;34m0\u001b[0m │ embedding_1[\u001b[38;5;34m0\u001b[0m][\u001b[38;5;34m0\u001b[0m]      │\n",
              "├───────────────────────────┼────────────────────────┼────────────────┼────────────────────────┤\n",
              "│ multi_head_attention      │ (\u001b[38;5;45mNone\u001b[0m, \u001b[38;5;34m23\u001b[0m, \u001b[38;5;34m16\u001b[0m)         │          \u001b[38;5;34m2,160\u001b[0m │ add[\u001b[38;5;34m0\u001b[0m][\u001b[38;5;34m0\u001b[0m], add[\u001b[38;5;34m0\u001b[0m][\u001b[38;5;34m0\u001b[0m]   │\n",
              "│ (\u001b[38;5;33mMultiHeadAttention\u001b[0m)      │                        │                │                        │\n",
              "├───────────────────────────┼────────────────────────┼────────────────┼────────────────────────┤\n",
              "│ dropout_1 (\u001b[38;5;33mDropout\u001b[0m)       │ (\u001b[38;5;45mNone\u001b[0m, \u001b[38;5;34m23\u001b[0m, \u001b[38;5;34m16\u001b[0m)         │              \u001b[38;5;34m0\u001b[0m │ multi_head_attention[\u001b[38;5;34m…\u001b[0m │\n",
              "├───────────────────────────┼────────────────────────┼────────────────┼────────────────────────┤\n",
              "│ add_1 (\u001b[38;5;33mAdd\u001b[0m)               │ (\u001b[38;5;45mNone\u001b[0m, \u001b[38;5;34m23\u001b[0m, \u001b[38;5;34m16\u001b[0m)         │              \u001b[38;5;34m0\u001b[0m │ add[\u001b[38;5;34m0\u001b[0m][\u001b[38;5;34m0\u001b[0m],             │\n",
              "│                           │                        │                │ dropout_1[\u001b[38;5;34m0\u001b[0m][\u001b[38;5;34m0\u001b[0m]        │\n",
              "├───────────────────────────┼────────────────────────┼────────────────┼────────────────────────┤\n",
              "│ layer_normalization       │ (\u001b[38;5;45mNone\u001b[0m, \u001b[38;5;34m23\u001b[0m, \u001b[38;5;34m16\u001b[0m)         │             \u001b[38;5;34m32\u001b[0m │ add_1[\u001b[38;5;34m0\u001b[0m][\u001b[38;5;34m0\u001b[0m]            │\n",
              "│ (\u001b[38;5;33mLayerNormalization\u001b[0m)      │                        │                │                        │\n",
              "├───────────────────────────┼────────────────────────┼────────────────┼────────────────────────┤\n",
              "│ dense_1 (\u001b[38;5;33mDense\u001b[0m)           │ (\u001b[38;5;45mNone\u001b[0m, \u001b[38;5;34m23\u001b[0m, \u001b[38;5;34m32\u001b[0m)         │            \u001b[38;5;34m544\u001b[0m │ layer_normalization[\u001b[38;5;34m0\u001b[0m… │\n",
              "├───────────────────────────┼────────────────────────┼────────────────┼────────────────────────┤\n",
              "│ dense_2 (\u001b[38;5;33mDense\u001b[0m)           │ (\u001b[38;5;45mNone\u001b[0m, \u001b[38;5;34m23\u001b[0m, \u001b[38;5;34m16\u001b[0m)         │            \u001b[38;5;34m528\u001b[0m │ dense_1[\u001b[38;5;34m0\u001b[0m][\u001b[38;5;34m0\u001b[0m]          │\n",
              "├───────────────────────────┼────────────────────────┼────────────────┼────────────────────────┤\n",
              "│ dropout_2 (\u001b[38;5;33mDropout\u001b[0m)       │ (\u001b[38;5;45mNone\u001b[0m, \u001b[38;5;34m23\u001b[0m, \u001b[38;5;34m16\u001b[0m)         │              \u001b[38;5;34m0\u001b[0m │ dense_2[\u001b[38;5;34m0\u001b[0m][\u001b[38;5;34m0\u001b[0m]          │\n",
              "├───────────────────────────┼────────────────────────┼────────────────┼────────────────────────┤\n",
              "│ add_2 (\u001b[38;5;33mAdd\u001b[0m)               │ (\u001b[38;5;45mNone\u001b[0m, \u001b[38;5;34m23\u001b[0m, \u001b[38;5;34m16\u001b[0m)         │              \u001b[38;5;34m0\u001b[0m │ layer_normalization[\u001b[38;5;34m0\u001b[0m… │\n",
              "│                           │                        │                │ dropout_2[\u001b[38;5;34m0\u001b[0m][\u001b[38;5;34m0\u001b[0m]        │\n",
              "├───────────────────────────┼────────────────────────┼────────────────┼────────────────────────┤\n",
              "│ layer_normalization_1     │ (\u001b[38;5;45mNone\u001b[0m, \u001b[38;5;34m23\u001b[0m, \u001b[38;5;34m16\u001b[0m)         │             \u001b[38;5;34m32\u001b[0m │ add_2[\u001b[38;5;34m0\u001b[0m][\u001b[38;5;34m0\u001b[0m]            │\n",
              "│ (\u001b[38;5;33mLayerNormalization\u001b[0m)      │                        │                │                        │\n",
              "├───────────────────────────┼────────────────────────┼────────────────┼────────────────────────┤\n",
              "│ dense_3 (\u001b[38;5;33mDense\u001b[0m)           │ (\u001b[38;5;45mNone\u001b[0m, \u001b[38;5;34m23\u001b[0m, \u001b[38;5;34m20\u001b[0m)         │            \u001b[38;5;34m340\u001b[0m │ layer_normalization_1… │\n",
              "└───────────────────────────┴────────────────────────┴────────────────┴────────────────────────┘\n"
            ],
            "text/html": [
              "<pre style=\"white-space:pre;overflow-x:auto;line-height:normal;font-family:Menlo,'DejaVu Sans Mono',consolas,'Courier New',monospace\">┏━━━━━━━━━━━━━━━━━━━━━━━━━━━┳━━━━━━━━━━━━━━━━━━━━━━━━┳━━━━━━━━━━━━━━━━┳━━━━━━━━━━━━━━━━━━━━━━━━┓\n",
              "┃<span style=\"font-weight: bold\"> Layer (type)              </span>┃<span style=\"font-weight: bold\"> Output Shape           </span>┃<span style=\"font-weight: bold\">        Param # </span>┃<span style=\"font-weight: bold\"> Connected to           </span>┃\n",
              "┡━━━━━━━━━━━━━━━━━━━━━━━━━━━╇━━━━━━━━━━━━━━━━━━━━━━━━╇━━━━━━━━━━━━━━━━╇━━━━━━━━━━━━━━━━━━━━━━━━┩\n",
              "│ input_layer_1             │ (<span style=\"color: #00d7ff; text-decoration-color: #00d7ff\">None</span>, <span style=\"color: #00af00; text-decoration-color: #00af00\">23</span>)             │              <span style=\"color: #00af00; text-decoration-color: #00af00\">0</span> │ -                      │\n",
              "│ (<span style=\"color: #0087ff; text-decoration-color: #0087ff\">InputLayer</span>)              │                        │                │                        │\n",
              "├───────────────────────────┼────────────────────────┼────────────────┼────────────────────────┤\n",
              "│ embedding_1 (<span style=\"color: #0087ff; text-decoration-color: #0087ff\">Embedding</span>)   │ (<span style=\"color: #00d7ff; text-decoration-color: #00d7ff\">None</span>, <span style=\"color: #00af00; text-decoration-color: #00af00\">23</span>, <span style=\"color: #00af00; text-decoration-color: #00af00\">16</span>)         │            <span style=\"color: #00af00; text-decoration-color: #00af00\">320</span> │ input_layer_1[<span style=\"color: #00af00; text-decoration-color: #00af00\">0</span>][<span style=\"color: #00af00; text-decoration-color: #00af00\">0</span>]    │\n",
              "├───────────────────────────┼────────────────────────┼────────────────┼────────────────────────┤\n",
              "│ add (<span style=\"color: #0087ff; text-decoration-color: #0087ff\">Add</span>)                 │ (<span style=\"color: #00d7ff; text-decoration-color: #00d7ff\">None</span>, <span style=\"color: #00af00; text-decoration-color: #00af00\">23</span>, <span style=\"color: #00af00; text-decoration-color: #00af00\">16</span>)         │              <span style=\"color: #00af00; text-decoration-color: #00af00\">0</span> │ embedding_1[<span style=\"color: #00af00; text-decoration-color: #00af00\">0</span>][<span style=\"color: #00af00; text-decoration-color: #00af00\">0</span>]      │\n",
              "├───────────────────────────┼────────────────────────┼────────────────┼────────────────────────┤\n",
              "│ multi_head_attention      │ (<span style=\"color: #00d7ff; text-decoration-color: #00d7ff\">None</span>, <span style=\"color: #00af00; text-decoration-color: #00af00\">23</span>, <span style=\"color: #00af00; text-decoration-color: #00af00\">16</span>)         │          <span style=\"color: #00af00; text-decoration-color: #00af00\">2,160</span> │ add[<span style=\"color: #00af00; text-decoration-color: #00af00\">0</span>][<span style=\"color: #00af00; text-decoration-color: #00af00\">0</span>], add[<span style=\"color: #00af00; text-decoration-color: #00af00\">0</span>][<span style=\"color: #00af00; text-decoration-color: #00af00\">0</span>]   │\n",
              "│ (<span style=\"color: #0087ff; text-decoration-color: #0087ff\">MultiHeadAttention</span>)      │                        │                │                        │\n",
              "├───────────────────────────┼────────────────────────┼────────────────┼────────────────────────┤\n",
              "│ dropout_1 (<span style=\"color: #0087ff; text-decoration-color: #0087ff\">Dropout</span>)       │ (<span style=\"color: #00d7ff; text-decoration-color: #00d7ff\">None</span>, <span style=\"color: #00af00; text-decoration-color: #00af00\">23</span>, <span style=\"color: #00af00; text-decoration-color: #00af00\">16</span>)         │              <span style=\"color: #00af00; text-decoration-color: #00af00\">0</span> │ multi_head_attention[<span style=\"color: #00af00; text-decoration-color: #00af00\">…</span> │\n",
              "├───────────────────────────┼────────────────────────┼────────────────┼────────────────────────┤\n",
              "│ add_1 (<span style=\"color: #0087ff; text-decoration-color: #0087ff\">Add</span>)               │ (<span style=\"color: #00d7ff; text-decoration-color: #00d7ff\">None</span>, <span style=\"color: #00af00; text-decoration-color: #00af00\">23</span>, <span style=\"color: #00af00; text-decoration-color: #00af00\">16</span>)         │              <span style=\"color: #00af00; text-decoration-color: #00af00\">0</span> │ add[<span style=\"color: #00af00; text-decoration-color: #00af00\">0</span>][<span style=\"color: #00af00; text-decoration-color: #00af00\">0</span>],             │\n",
              "│                           │                        │                │ dropout_1[<span style=\"color: #00af00; text-decoration-color: #00af00\">0</span>][<span style=\"color: #00af00; text-decoration-color: #00af00\">0</span>]        │\n",
              "├───────────────────────────┼────────────────────────┼────────────────┼────────────────────────┤\n",
              "│ layer_normalization       │ (<span style=\"color: #00d7ff; text-decoration-color: #00d7ff\">None</span>, <span style=\"color: #00af00; text-decoration-color: #00af00\">23</span>, <span style=\"color: #00af00; text-decoration-color: #00af00\">16</span>)         │             <span style=\"color: #00af00; text-decoration-color: #00af00\">32</span> │ add_1[<span style=\"color: #00af00; text-decoration-color: #00af00\">0</span>][<span style=\"color: #00af00; text-decoration-color: #00af00\">0</span>]            │\n",
              "│ (<span style=\"color: #0087ff; text-decoration-color: #0087ff\">LayerNormalization</span>)      │                        │                │                        │\n",
              "├───────────────────────────┼────────────────────────┼────────────────┼────────────────────────┤\n",
              "│ dense_1 (<span style=\"color: #0087ff; text-decoration-color: #0087ff\">Dense</span>)           │ (<span style=\"color: #00d7ff; text-decoration-color: #00d7ff\">None</span>, <span style=\"color: #00af00; text-decoration-color: #00af00\">23</span>, <span style=\"color: #00af00; text-decoration-color: #00af00\">32</span>)         │            <span style=\"color: #00af00; text-decoration-color: #00af00\">544</span> │ layer_normalization[<span style=\"color: #00af00; text-decoration-color: #00af00\">0</span>… │\n",
              "├───────────────────────────┼────────────────────────┼────────────────┼────────────────────────┤\n",
              "│ dense_2 (<span style=\"color: #0087ff; text-decoration-color: #0087ff\">Dense</span>)           │ (<span style=\"color: #00d7ff; text-decoration-color: #00d7ff\">None</span>, <span style=\"color: #00af00; text-decoration-color: #00af00\">23</span>, <span style=\"color: #00af00; text-decoration-color: #00af00\">16</span>)         │            <span style=\"color: #00af00; text-decoration-color: #00af00\">528</span> │ dense_1[<span style=\"color: #00af00; text-decoration-color: #00af00\">0</span>][<span style=\"color: #00af00; text-decoration-color: #00af00\">0</span>]          │\n",
              "├───────────────────────────┼────────────────────────┼────────────────┼────────────────────────┤\n",
              "│ dropout_2 (<span style=\"color: #0087ff; text-decoration-color: #0087ff\">Dropout</span>)       │ (<span style=\"color: #00d7ff; text-decoration-color: #00d7ff\">None</span>, <span style=\"color: #00af00; text-decoration-color: #00af00\">23</span>, <span style=\"color: #00af00; text-decoration-color: #00af00\">16</span>)         │              <span style=\"color: #00af00; text-decoration-color: #00af00\">0</span> │ dense_2[<span style=\"color: #00af00; text-decoration-color: #00af00\">0</span>][<span style=\"color: #00af00; text-decoration-color: #00af00\">0</span>]          │\n",
              "├───────────────────────────┼────────────────────────┼────────────────┼────────────────────────┤\n",
              "│ add_2 (<span style=\"color: #0087ff; text-decoration-color: #0087ff\">Add</span>)               │ (<span style=\"color: #00d7ff; text-decoration-color: #00d7ff\">None</span>, <span style=\"color: #00af00; text-decoration-color: #00af00\">23</span>, <span style=\"color: #00af00; text-decoration-color: #00af00\">16</span>)         │              <span style=\"color: #00af00; text-decoration-color: #00af00\">0</span> │ layer_normalization[<span style=\"color: #00af00; text-decoration-color: #00af00\">0</span>… │\n",
              "│                           │                        │                │ dropout_2[<span style=\"color: #00af00; text-decoration-color: #00af00\">0</span>][<span style=\"color: #00af00; text-decoration-color: #00af00\">0</span>]        │\n",
              "├───────────────────────────┼────────────────────────┼────────────────┼────────────────────────┤\n",
              "│ layer_normalization_1     │ (<span style=\"color: #00d7ff; text-decoration-color: #00d7ff\">None</span>, <span style=\"color: #00af00; text-decoration-color: #00af00\">23</span>, <span style=\"color: #00af00; text-decoration-color: #00af00\">16</span>)         │             <span style=\"color: #00af00; text-decoration-color: #00af00\">32</span> │ add_2[<span style=\"color: #00af00; text-decoration-color: #00af00\">0</span>][<span style=\"color: #00af00; text-decoration-color: #00af00\">0</span>]            │\n",
              "│ (<span style=\"color: #0087ff; text-decoration-color: #0087ff\">LayerNormalization</span>)      │                        │                │                        │\n",
              "├───────────────────────────┼────────────────────────┼────────────────┼────────────────────────┤\n",
              "│ dense_3 (<span style=\"color: #0087ff; text-decoration-color: #0087ff\">Dense</span>)           │ (<span style=\"color: #00d7ff; text-decoration-color: #00d7ff\">None</span>, <span style=\"color: #00af00; text-decoration-color: #00af00\">23</span>, <span style=\"color: #00af00; text-decoration-color: #00af00\">20</span>)         │            <span style=\"color: #00af00; text-decoration-color: #00af00\">340</span> │ layer_normalization_1… │\n",
              "└───────────────────────────┴────────────────────────┴────────────────┴────────────────────────┘\n",
              "</pre>\n"
            ]
          },
          "metadata": {}
        },
        {
          "output_type": "display_data",
          "data": {
            "text/plain": [
              "\u001b[1m Total params: \u001b[0m\u001b[38;5;34m3,956\u001b[0m (15.45 KB)\n"
            ],
            "text/html": [
              "<pre style=\"white-space:pre;overflow-x:auto;line-height:normal;font-family:Menlo,'DejaVu Sans Mono',consolas,'Courier New',monospace\"><span style=\"font-weight: bold\"> Total params: </span><span style=\"color: #00af00; text-decoration-color: #00af00\">3,956</span> (15.45 KB)\n",
              "</pre>\n"
            ]
          },
          "metadata": {}
        },
        {
          "output_type": "display_data",
          "data": {
            "text/plain": [
              "\u001b[1m Trainable params: \u001b[0m\u001b[38;5;34m3,956\u001b[0m (15.45 KB)\n"
            ],
            "text/html": [
              "<pre style=\"white-space:pre;overflow-x:auto;line-height:normal;font-family:Menlo,'DejaVu Sans Mono',consolas,'Courier New',monospace\"><span style=\"font-weight: bold\"> Trainable params: </span><span style=\"color: #00af00; text-decoration-color: #00af00\">3,956</span> (15.45 KB)\n",
              "</pre>\n"
            ]
          },
          "metadata": {}
        },
        {
          "output_type": "display_data",
          "data": {
            "text/plain": [
              "\u001b[1m Non-trainable params: \u001b[0m\u001b[38;5;34m0\u001b[0m (0.00 B)\n"
            ],
            "text/html": [
              "<pre style=\"white-space:pre;overflow-x:auto;line-height:normal;font-family:Menlo,'DejaVu Sans Mono',consolas,'Courier New',monospace\"><span style=\"font-weight: bold\"> Non-trainable params: </span><span style=\"color: #00af00; text-decoration-color: #00af00\">0</span> (0.00 B)\n",
              "</pre>\n"
            ]
          },
          "metadata": {}
        }
      ]
    },
    {
      "cell_type": "markdown",
      "source": [
        "##5. Train the Transformer  \n",
        "\n",
        "**epochs**: The number of times the model will go through the entire training data.  \n",
        "**batch_size**: The number of training examples processed in each iteration.  \n",
        "**model.fit**: This starts the training process, using the prepared data (X, y) and the specified training parameters.  "
      ],
      "metadata": {
        "id": "g6QE6EKIcqJl"
      }
    },
    {
      "cell_type": "code",
      "source": [
        "epochs = 50\n",
        "batch_size = 16\n",
        "model.fit(X, y, epochs=epochs, batch_size=batch_size)\n"
      ],
      "metadata": {
        "colab": {
          "base_uri": "https://localhost:8080/"
        },
        "id": "aZzZxy3gc138",
        "outputId": "9f9aa704-b5e6-4437-9432-3296f2e0376f"
      },
      "execution_count": 16,
      "outputs": [
        {
          "output_type": "stream",
          "name": "stdout",
          "text": [
            "Epoch 1/50\n",
            "\u001b[1m10/10\u001b[0m \u001b[32m━━━━━━━━━━━━━━━━━━━━\u001b[0m\u001b[37m\u001b[0m \u001b[1m4s\u001b[0m 8ms/step - accuracy: 0.1075 - loss: 3.1347\n",
            "Epoch 2/50\n",
            "\u001b[1m10/10\u001b[0m \u001b[32m━━━━━━━━━━━━━━━━━━━━\u001b[0m\u001b[37m\u001b[0m \u001b[1m0s\u001b[0m 8ms/step - accuracy: 0.1842 - loss: 2.7542\n",
            "Epoch 3/50\n",
            "\u001b[1m10/10\u001b[0m \u001b[32m━━━━━━━━━━━━━━━━━━━━\u001b[0m\u001b[37m\u001b[0m \u001b[1m0s\u001b[0m 8ms/step - accuracy: 0.2122 - loss: 2.6545\n",
            "Epoch 4/50\n",
            "\u001b[1m10/10\u001b[0m \u001b[32m━━━━━━━━━━━━━━━━━━━━\u001b[0m\u001b[37m\u001b[0m \u001b[1m0s\u001b[0m 9ms/step - accuracy: 0.2606 - loss: 2.5294\n",
            "Epoch 5/50\n",
            "\u001b[1m10/10\u001b[0m \u001b[32m━━━━━━━━━━━━━━━━━━━━\u001b[0m\u001b[37m\u001b[0m \u001b[1m0s\u001b[0m 8ms/step - accuracy: 0.2624 - loss: 2.5138 \n",
            "Epoch 6/50\n",
            "\u001b[1m10/10\u001b[0m \u001b[32m━━━━━━━━━━━━━━━━━━━━\u001b[0m\u001b[37m\u001b[0m \u001b[1m0s\u001b[0m 10ms/step - accuracy: 0.2798 - loss: 2.4100\n",
            "Epoch 7/50\n",
            "\u001b[1m10/10\u001b[0m \u001b[32m━━━━━━━━━━━━━━━━━━━━\u001b[0m\u001b[37m\u001b[0m \u001b[1m0s\u001b[0m 9ms/step - accuracy: 0.3085 - loss: 2.3780\n",
            "Epoch 8/50\n",
            "\u001b[1m10/10\u001b[0m \u001b[32m━━━━━━━━━━━━━━━━━━━━\u001b[0m\u001b[37m\u001b[0m \u001b[1m0s\u001b[0m 9ms/step - accuracy: 0.3193 - loss: 2.3599\n",
            "Epoch 9/50\n",
            "\u001b[1m10/10\u001b[0m \u001b[32m━━━━━━━━━━━━━━━━━━━━\u001b[0m\u001b[37m\u001b[0m \u001b[1m0s\u001b[0m 9ms/step - accuracy: 0.3425 - loss: 2.3126\n",
            "Epoch 10/50\n",
            "\u001b[1m10/10\u001b[0m \u001b[32m━━━━━━━━━━━━━━━━━━━━\u001b[0m\u001b[37m\u001b[0m \u001b[1m0s\u001b[0m 8ms/step - accuracy: 0.3790 - loss: 2.2206\n",
            "Epoch 11/50\n",
            "\u001b[1m10/10\u001b[0m \u001b[32m━━━━━━━━━━━━━━━━━━━━\u001b[0m\u001b[37m\u001b[0m \u001b[1m0s\u001b[0m 8ms/step - accuracy: 0.3624 - loss: 2.2607\n",
            "Epoch 12/50\n",
            "\u001b[1m10/10\u001b[0m \u001b[32m━━━━━━━━━━━━━━━━━━━━\u001b[0m\u001b[37m\u001b[0m \u001b[1m0s\u001b[0m 8ms/step - accuracy: 0.3701 - loss: 2.2491\n",
            "Epoch 13/50\n",
            "\u001b[1m10/10\u001b[0m \u001b[32m━━━━━━━━━━━━━━━━━━━━\u001b[0m\u001b[37m\u001b[0m \u001b[1m0s\u001b[0m 9ms/step - accuracy: 0.4096 - loss: 2.1319\n",
            "Epoch 14/50\n",
            "\u001b[1m10/10\u001b[0m \u001b[32m━━━━━━━━━━━━━━━━━━━━\u001b[0m\u001b[37m\u001b[0m \u001b[1m0s\u001b[0m 13ms/step - accuracy: 0.4238 - loss: 2.0679\n",
            "Epoch 15/50\n",
            "\u001b[1m10/10\u001b[0m \u001b[32m━━━━━━━━━━━━━━━━━━━━\u001b[0m\u001b[37m\u001b[0m \u001b[1m0s\u001b[0m 15ms/step - accuracy: 0.4122 - loss: 2.0921\n",
            "Epoch 16/50\n",
            "\u001b[1m10/10\u001b[0m \u001b[32m━━━━━━━━━━━━━━━━━━━━\u001b[0m\u001b[37m\u001b[0m \u001b[1m0s\u001b[0m 13ms/step - accuracy: 0.4253 - loss: 2.0467\n",
            "Epoch 17/50\n",
            "\u001b[1m10/10\u001b[0m \u001b[32m━━━━━━━━━━━━━━━━━━━━\u001b[0m\u001b[37m\u001b[0m \u001b[1m0s\u001b[0m 14ms/step - accuracy: 0.4351 - loss: 1.9978\n",
            "Epoch 18/50\n",
            "\u001b[1m10/10\u001b[0m \u001b[32m━━━━━━━━━━━━━━━━━━━━\u001b[0m\u001b[37m\u001b[0m \u001b[1m0s\u001b[0m 15ms/step - accuracy: 0.4370 - loss: 2.0127\n",
            "Epoch 19/50\n",
            "\u001b[1m10/10\u001b[0m \u001b[32m━━━━━━━━━━━━━━━━━━━━\u001b[0m\u001b[37m\u001b[0m \u001b[1m0s\u001b[0m 14ms/step - accuracy: 0.4420 - loss: 1.9958\n",
            "Epoch 20/50\n",
            "\u001b[1m10/10\u001b[0m \u001b[32m━━━━━━━━━━━━━━━━━━━━\u001b[0m\u001b[37m\u001b[0m \u001b[1m0s\u001b[0m 13ms/step - accuracy: 0.4587 - loss: 1.9155\n",
            "Epoch 21/50\n",
            "\u001b[1m10/10\u001b[0m \u001b[32m━━━━━━━━━━━━━━━━━━━━\u001b[0m\u001b[37m\u001b[0m \u001b[1m0s\u001b[0m 13ms/step - accuracy: 0.4753 - loss: 1.8532\n",
            "Epoch 22/50\n",
            "\u001b[1m10/10\u001b[0m \u001b[32m━━━━━━━━━━━━━━━━━━━━\u001b[0m\u001b[37m\u001b[0m \u001b[1m0s\u001b[0m 17ms/step - accuracy: 0.4532 - loss: 1.9042\n",
            "Epoch 23/50\n",
            "\u001b[1m10/10\u001b[0m \u001b[32m━━━━━━━━━━━━━━━━━━━━\u001b[0m\u001b[37m\u001b[0m \u001b[1m0s\u001b[0m 14ms/step - accuracy: 0.4876 - loss: 1.8280\n",
            "Epoch 24/50\n",
            "\u001b[1m10/10\u001b[0m \u001b[32m━━━━━━━━━━━━━━━━━━━━\u001b[0m\u001b[37m\u001b[0m \u001b[1m0s\u001b[0m 9ms/step - accuracy: 0.4802 - loss: 1.8268\n",
            "Epoch 25/50\n",
            "\u001b[1m10/10\u001b[0m \u001b[32m━━━━━━━━━━━━━━━━━━━━\u001b[0m\u001b[37m\u001b[0m \u001b[1m0s\u001b[0m 8ms/step - accuracy: 0.4984 - loss: 1.8234\n",
            "Epoch 26/50\n",
            "\u001b[1m10/10\u001b[0m \u001b[32m━━━━━━━━━━━━━━━━━━━━\u001b[0m\u001b[37m\u001b[0m \u001b[1m0s\u001b[0m 8ms/step - accuracy: 0.5132 - loss: 1.7425\n",
            "Epoch 27/50\n",
            "\u001b[1m10/10\u001b[0m \u001b[32m━━━━━━━━━━━━━━━━━━━━\u001b[0m\u001b[37m\u001b[0m \u001b[1m0s\u001b[0m 8ms/step - accuracy: 0.5014 - loss: 1.7935\n",
            "Epoch 28/50\n",
            "\u001b[1m10/10\u001b[0m \u001b[32m━━━━━━━━━━━━━━━━━━━━\u001b[0m\u001b[37m\u001b[0m \u001b[1m0s\u001b[0m 8ms/step - accuracy: 0.5130 - loss: 1.7411 \n",
            "Epoch 29/50\n",
            "\u001b[1m10/10\u001b[0m \u001b[32m━━━━━━━━━━━━━━━━━━━━\u001b[0m\u001b[37m\u001b[0m \u001b[1m0s\u001b[0m 11ms/step - accuracy: 0.5277 - loss: 1.7104\n",
            "Epoch 30/50\n",
            "\u001b[1m10/10\u001b[0m \u001b[32m━━━━━━━━━━━━━━━━━━━━\u001b[0m\u001b[37m\u001b[0m \u001b[1m0s\u001b[0m 8ms/step - accuracy: 0.4925 - loss: 1.8051\n",
            "Epoch 31/50\n",
            "\u001b[1m10/10\u001b[0m \u001b[32m━━━━━━━━━━━━━━━━━━━━\u001b[0m\u001b[37m\u001b[0m \u001b[1m0s\u001b[0m 8ms/step - accuracy: 0.5106 - loss: 1.7572\n",
            "Epoch 32/50\n",
            "\u001b[1m10/10\u001b[0m \u001b[32m━━━━━━━━━━━━━━━━━━━━\u001b[0m\u001b[37m\u001b[0m \u001b[1m0s\u001b[0m 9ms/step - accuracy: 0.5276 - loss: 1.6827\n",
            "Epoch 33/50\n",
            "\u001b[1m10/10\u001b[0m \u001b[32m━━━━━━━━━━━━━━━━━━━━\u001b[0m\u001b[37m\u001b[0m \u001b[1m0s\u001b[0m 8ms/step - accuracy: 0.5180 - loss: 1.7488\n",
            "Epoch 34/50\n",
            "\u001b[1m10/10\u001b[0m \u001b[32m━━━━━━━━━━━━━━━━━━━━\u001b[0m\u001b[37m\u001b[0m \u001b[1m0s\u001b[0m 8ms/step - accuracy: 0.4909 - loss: 1.7647\n",
            "Epoch 35/50\n",
            "\u001b[1m10/10\u001b[0m \u001b[32m━━━━━━━━━━━━━━━━━━━━\u001b[0m\u001b[37m\u001b[0m \u001b[1m0s\u001b[0m 8ms/step - accuracy: 0.5120 - loss: 1.6887\n",
            "Epoch 36/50\n",
            "\u001b[1m10/10\u001b[0m \u001b[32m━━━━━━━━━━━━━━━━━━━━\u001b[0m\u001b[37m\u001b[0m \u001b[1m0s\u001b[0m 9ms/step - accuracy: 0.5355 - loss: 1.6570\n",
            "Epoch 37/50\n",
            "\u001b[1m10/10\u001b[0m \u001b[32m━━━━━━━━━━━━━━━━━━━━\u001b[0m\u001b[37m\u001b[0m \u001b[1m0s\u001b[0m 13ms/step - accuracy: 0.5297 - loss: 1.6510\n",
            "Epoch 38/50\n",
            "\u001b[1m10/10\u001b[0m \u001b[32m━━━━━━━━━━━━━━━━━━━━\u001b[0m\u001b[37m\u001b[0m \u001b[1m0s\u001b[0m 8ms/step - accuracy: 0.5401 - loss: 1.6493\n",
            "Epoch 39/50\n",
            "\u001b[1m10/10\u001b[0m \u001b[32m━━━━━━━━━━━━━━━━━━━━\u001b[0m\u001b[37m\u001b[0m \u001b[1m0s\u001b[0m 9ms/step - accuracy: 0.5260 - loss: 1.6795\n",
            "Epoch 40/50\n",
            "\u001b[1m10/10\u001b[0m \u001b[32m━━━━━━━━━━━━━━━━━━━━\u001b[0m\u001b[37m\u001b[0m \u001b[1m0s\u001b[0m 9ms/step - accuracy: 0.5436 - loss: 1.6431\n",
            "Epoch 41/50\n",
            "\u001b[1m10/10\u001b[0m \u001b[32m━━━━━━━━━━━━━━━━━━━━\u001b[0m\u001b[37m\u001b[0m \u001b[1m0s\u001b[0m 8ms/step - accuracy: 0.5490 - loss: 1.6237\n",
            "Epoch 42/50\n",
            "\u001b[1m10/10\u001b[0m \u001b[32m━━━━━━━━━━━━━━━━━━━━\u001b[0m\u001b[37m\u001b[0m \u001b[1m0s\u001b[0m 8ms/step - accuracy: 0.5343 - loss: 1.6478\n",
            "Epoch 43/50\n",
            "\u001b[1m10/10\u001b[0m \u001b[32m━━━━━━━━━━━━━━━━━━━━\u001b[0m\u001b[37m\u001b[0m \u001b[1m0s\u001b[0m 10ms/step - accuracy: 0.5194 - loss: 1.6606\n",
            "Epoch 44/50\n",
            "\u001b[1m10/10\u001b[0m \u001b[32m━━━━━━━━━━━━━━━━━━━━\u001b[0m\u001b[37m\u001b[0m \u001b[1m0s\u001b[0m 9ms/step - accuracy: 0.5779 - loss: 1.5149\n",
            "Epoch 45/50\n",
            "\u001b[1m10/10\u001b[0m \u001b[32m━━━━━━━━━━━━━━━━━━━━\u001b[0m\u001b[37m\u001b[0m \u001b[1m0s\u001b[0m 9ms/step - accuracy: 0.5603 - loss: 1.5730\n",
            "Epoch 46/50\n",
            "\u001b[1m10/10\u001b[0m \u001b[32m━━━━━━━━━━━━━━━━━━━━\u001b[0m\u001b[37m\u001b[0m \u001b[1m0s\u001b[0m 9ms/step - accuracy: 0.5609 - loss: 1.5648\n",
            "Epoch 47/50\n",
            "\u001b[1m10/10\u001b[0m \u001b[32m━━━━━━━━━━━━━━━━━━━━\u001b[0m\u001b[37m\u001b[0m \u001b[1m0s\u001b[0m 8ms/step - accuracy: 0.5539 - loss: 1.5772\n",
            "Epoch 48/50\n",
            "\u001b[1m10/10\u001b[0m \u001b[32m━━━━━━━━━━━━━━━━━━━━\u001b[0m\u001b[37m\u001b[0m \u001b[1m0s\u001b[0m 8ms/step - accuracy: 0.5566 - loss: 1.5710\n",
            "Epoch 49/50\n",
            "\u001b[1m10/10\u001b[0m \u001b[32m━━━━━━━━━━━━━━━━━━━━\u001b[0m\u001b[37m\u001b[0m \u001b[1m0s\u001b[0m 8ms/step - accuracy: 0.5262 - loss: 1.6408\n",
            "Epoch 50/50\n",
            "\u001b[1m10/10\u001b[0m \u001b[32m━━━━━━━━━━━━━━━━━━━━\u001b[0m\u001b[37m\u001b[0m \u001b[1m0s\u001b[0m 8ms/step - accuracy: 0.5304 - loss: 1.6304\n"
          ]
        },
        {
          "output_type": "execute_result",
          "data": {
            "text/plain": [
              "<keras.src.callbacks.history.History at 0x7b2a01b2c590>"
            ]
          },
          "metadata": {},
          "execution_count": 16
        }
      ]
    },
    {
      "cell_type": "markdown",
      "source": [
        "##6. Generation function  \n",
        "**generate_transformer_sequence**: This function takes the trained model and a starting amino acid (**start_token**) and generates a new peptide sequence of the specified length.  \n",
        "It works by repeatedly predicting the next amino acid based on the previous ones, using the model's learned knowledge.  \n",
        "The example usage demonstrates how to generate 20 new sequences starting with 'F' and 20 starting with 'G'.  \n"
      ],
      "metadata": {
        "id": "1zPuqizYc4Fu"
      }
    },
    {
      "cell_type": "code",
      "source": [
        "def generate_transformer_sequence(model, start_token, length=24):\n",
        "    \"\"\"\n",
        "    Generate a new peptide sequence from a transformer model.\n",
        "    :param model: trained Keras model\n",
        "    :param start_token: integer index of first amino acid\n",
        "    :param length: desired total length\n",
        "    :return: generated amino acid sequence (string)\n",
        "    \"\"\"\n",
        "    generated = [start_token]\n",
        "\n",
        "    for i in range(length-1):\n",
        "        # We feed the current sequence (minus 1 for next-token prediction)\n",
        "        input_seq = np.array(generated)[None, ...]  # shape: (1, current_length)\n",
        "\n",
        "        # Model expects length=23 for training; in generation we can adapt.\n",
        "        # We'll zero-pad to length=23 for simplicity (or you can dynamically mask).\n",
        "        pad_len = (seq_length - 1) - len(generated)\n",
        "        if pad_len < 0:\n",
        "            # If your sequence is already at length=23, we only use the last 23 tokens\n",
        "            input_seq = np.array(generated[-(seq_length-1):])[None, ...]\n",
        "            pad_len = 0\n",
        "\n",
        "        input_seq = np.pad(input_seq, ((0,0),(0,pad_len)), 'constant', constant_values=0)\n",
        "\n",
        "        preds = model.predict(input_seq, verbose=0)\n",
        "        # We want the last position's distribution\n",
        "        last_pos = len(generated)-1 if len(generated) < (seq_length-1) else (seq_length-2)\n",
        "        prob_dist = preds[0, last_pos]  # shape: (vocab_size,)\n",
        "\n",
        "        next_idx = np.random.choice(range(vocab_size), p=prob_dist)\n",
        "        generated.append(next_idx)\n",
        "\n",
        "    # Convert to string\n",
        "    generated_str = \"\".join(idx_to_char[idx] for idx in generated)\n",
        "    return generated_str"
      ],
      "metadata": {
        "id": "rtofii7oc4Og"
      },
      "execution_count": 17,
      "outputs": []
    },
    {
      "cell_type": "markdown",
      "source": [
        "###Transformer Generated AMP Sequences"
      ],
      "metadata": {
        "id": "0ldvnRdjdNhp"
      }
    },
    {
      "cell_type": "code",
      "source": [
        "for i in range(20):\n",
        "    start_token = char_to_idx['F']\n",
        "    new_peptide = generate_transformer_sequence(model, start_token, length=24)\n",
        "    print(\"Generated Peptide (Transformer):\", new_peptide)\n",
        "\n",
        "for i in range(20):\n",
        "    start_token = char_to_idx['G']\n",
        "    new_peptide = generate_transformer_sequence(model, start_token, length=24)\n",
        "    print(\"Generated Peptide (Transformer):\", new_peptide)"
      ],
      "metadata": {
        "colab": {
          "base_uri": "https://localhost:8080/"
        },
        "id": "nmrCAu4sd8Hf",
        "outputId": "ddfcf3d7-7bd2-4949-f621-21add84a3c09"
      },
      "execution_count": 18,
      "outputs": [
        {
          "output_type": "stream",
          "name": "stdout",
          "text": [
            "Generated Peptide (Transformer): FMAAIAMAACIFHVIVKCAAYIPV\n",
            "Generated Peptide (Transformer): FAAAMVAAIAMVAEAAAAAAAFFA\n",
            "Generated Peptide (Transformer): FIVYAAVAAAMAVIVAMSKKHMEM\n",
            "Generated Peptide (Transformer): FHEAIVIVAAMAVAIAMAALYAHI\n",
            "Generated Peptide (Transformer): FAAAAIACAAMAAKVAIYVAVYAV\n",
            "Generated Peptide (Transformer): FIVHHAVVALMVAMQYMAEAAGCV\n",
            "Generated Peptide (Transformer): FAAAFARVAAMAAFQIIFAAAGMY\n",
            "Generated Peptide (Transformer): FAAVIAYQAADAMAMYAMMAAAIQ\n",
            "Generated Peptide (Transformer): FVFAVALAAAAALFFVICAAAAVV\n",
            "Generated Peptide (Transformer): FLAAVAAAAAMQVIIAQVVAQALA\n",
            "Generated Peptide (Transformer): FLAAAAMAAAVAKAQAAAVAKALM\n",
            "Generated Peptide (Transformer): FMAIIAQHVAAAANDAQIAYAHAA\n",
            "Generated Peptide (Transformer): FAAAAAAAAAEAAIVAAAAAAIIL\n",
            "Generated Peptide (Transformer): FVATAIAMAAMAVFQIYCALKANM\n",
            "Generated Peptide (Transformer): FIFAAAMMAAFAMEAAACAIIAMA\n",
            "Generated Peptide (Transformer): FMLAAAQAAAVVAVAAVKKAIAIA\n",
            "Generated Peptide (Transformer): FVYLAAAAAANVQFYVAAAAVMAM\n",
            "Generated Peptide (Transformer): FAVAAAAAWVAAMYAAAAAAAAAA\n",
            "Generated Peptide (Transformer): FAIIAAAAIAQAAAQFACAACAFV\n",
            "Generated Peptide (Transformer): FAAAVVMHAAVAVPYAEMMAAAEY\n",
            "Generated Peptide (Transformer): GAQAAAIAAAENAGAAKAFAAKKL\n",
            "Generated Peptide (Transformer): GAAAAFAAAAKQAYADFAAYAAVI\n",
            "Generated Peptide (Transformer): GAYAVAYAAAKAAAAIAAHAVVAA\n",
            "Generated Peptide (Transformer): GLAATAMQAAKVAKRILAAAIAKQ\n",
            "Generated Peptide (Transformer): GHVAIAMAAAMGAIVIFCAIFKKI\n",
            "Generated Peptide (Transformer): GAAAAAAAAAMALAMAVAMAAAAV\n",
            "Generated Peptide (Transformer): GLAAAEMAAAVAHHQAMAAIAMAA\n",
            "Generated Peptide (Transformer): GAAIIAIAAAEIAIAAVAVAAAMA\n",
            "Generated Peptide (Transformer): GAVAAAAAAAAAAAIVFAAAMMKA\n",
            "Generated Peptide (Transformer): GMAAAAAAAAMVADAIIAKAAKKC\n",
            "Generated Peptide (Transformer): GAMAACAAAAAAKVWIAAAAMAQA\n",
            "Generated Peptide (Transformer): GATAVAQAAAAAVHVYYAMIIAPA\n",
            "Generated Peptide (Transformer): GAAAAAGAAMAAAIIAAEKVAAMI\n",
            "Generated Peptide (Transformer): GAMVAAFAAEVFAHVFYAKAEYAR\n",
            "Generated Peptide (Transformer): GAAAAAEYAAAAAEAAAMKAAAEA\n",
            "Generated Peptide (Transformer): GAAAAAAAAAVAAADAQAVAAKHV\n",
            "Generated Peptide (Transformer): GVVYAKEAAANWFYIIICAAVAAC\n",
            "Generated Peptide (Transformer): GAIAAAAAAAVAAMQAAAAAAAAA\n",
            "Generated Peptide (Transformer): GWFAAAAAAAKAEAAAAAMAAAKH\n",
            "Generated Peptide (Transformer): GAAAMAAAAAVAQHQAVAMAAAEA\n"
          ]
        }
      ]
    },
    {
      "cell_type": "markdown",
      "source": [
        "###Transformer Generated AMP Sequences (previously generated):"
      ],
      "metadata": {
        "id": "48UgsSK91Z_9"
      }
    },
    {
      "cell_type": "code",
      "source": [
        "'''\n",
        "FIPAIAAAAAAAAAAVFIPAACNF\n",
        "FFFEIAAAAAPAAAAAACNESKAS\n",
        "FYCAAADPAFNVAAYVPAPFPPCP\n",
        "FKDSIAAAAPAFTAPIFCAIFKCC\n",
        "FFFPIFGVAAAAAPAAFCAIAPFC\n",
        "FFPAVAAAAAAVPAAAYCAATCFS\n",
        "FADAVAAAAAAAAAAAYCAATAAP\n",
        "FFPAAYCAAAAYCPTCCPCCPCCC\n",
        "FVAAAAAAQAAGAAATAAAAAFAC\n",
        "FFAYIPAAAAAFPAAAYCPYCCCC\n",
        "FFDAFDAAAAAAPLAAFPAIPPVF\n",
        "FCAAAAAAAAAAAAAIFFPFFPAA\n",
        "FRVAAAGAAAEAAAAAIAIIAFFF\n",
        "FFPAAAAAEFCAAAAYIPVIPPVC\n",
        "FEEIFVAAAAAAAAAAIEAAAEAA\n",
        "FFPANMVAAAEAAAAVFFPATAAY\n",
        "FFFMIAAAAAAAACAPAAWHECQC\n",
        "FIFAIAHAAAAAAAAFWCAAATAA\n",
        "FVADFEIAAAFFFPAASFMITAAT\n",
        "FYAFLAAAAAAYVAAMCAPFPPVF\n",
        "GAAAFAAAAAAFAAAAYCAAAFFC\n",
        "GETAAAAAAAAFVAAVYCAAFPAY\n",
        "GVPAIFDTAAPAAPAAICAASWRC\n",
        "GVLIAAAAAAAYLPAAAPAVIPMW\n",
        "GVAARGFLAAACAAAAFCADAPSH\n",
        "GAAGEAAAAAEHAAFVFAAAAAAA\n",
        "GIDARAAAAAACAAAAICAFFLDC\n",
        "GAAAVAAAAGAAAAAAYPAAAAEC\n",
        "GFAAAAAAAAAFTVAAFCAEMTVA\n",
        "GRPAAAAAAAAEECAVYCGVIPFC\n",
        "GAAAIKAAAAAIVPHVFKAAEWND\n",
        "GSAAAAAAAAFVAAAAVEAISKKC\n",
        "GRVAFAAAAAHAAAAAVLPAAFYF\n",
        "GVAAAAEIIALAAAAAAAAEEFFD\n",
        "GAAAAAAVAAIAAPAAFCAAAVNC\n",
        "GFPAIAAMAAFYAPAAPAMIPPAC\n",
        "GAFPAPQIAAAYVPTARCAASKCC\n",
        "GAAAIAPAAANDAPAAGPAASKKC\n",
        "GAAAVAIVWVEMMAAMIAAAMMEG\n",
        "GLFFPAAAAAAPAPAAGEFFYLFC\n",
        "'''"
      ],
      "metadata": {
        "id": "b4pAT2jz10e3",
        "outputId": "f7dd8ef3-bf9c-4314-8208-445bf02dc1ea",
        "colab": {
          "base_uri": "https://localhost:8080/",
          "height": 122
        }
      },
      "execution_count": 19,
      "outputs": [
        {
          "output_type": "execute_result",
          "data": {
            "text/plain": [
              "'\\nFIPAIAAAAAAAAAAVFIPAACNF\\nFFFEIAAAAAPAAAAAACNESKAS\\nFYCAAADPAFNVAAYVPAPFPPCP\\nFKDSIAAAAPAFTAPIFCAIFKCC\\nFFFPIFGVAAAAAPAAFCAIAPFC\\nFFPAVAAAAAAVPAAAYCAATCFS\\nFADAVAAAAAAAAAAAYCAATAAP\\nFFPAAYCAAAAYCPTCCPCCPCCC\\nFVAAAAAAQAAGAAATAAAAAFAC\\nFFAYIPAAAAAFPAAAYCPYCCCC\\nFFDAFDAAAAAAPLAAFPAIPPVF\\nFCAAAAAAAAAAAAAIFFPFFPAA\\nFRVAAAGAAAEAAAAAIAIIAFFF\\nFFPAAAAAEFCAAAAYIPVIPPVC\\nFEEIFVAAAAAAAAAAIEAAAEAA\\nFFPANMVAAAEAAAAVFFPATAAY\\nFFFMIAAAAAAAACAPAAWHECQC\\nFIFAIAHAAAAAAAAFWCAAATAA\\nFVADFEIAAAFFFPAASFMITAAT\\nFYAFLAAAAAAYVAAMCAPFPPVF\\nGAAAFAAAAAAFAAAAYCAAAFFC\\nGETAAAAAAAAFVAAVYCAAFPAY\\nGVPAIFDTAAPAAPAAICAASWRC\\nGVLIAAAAAAAYLPAAAPAVIPMW\\nGVAARGFLAAACAAAAFCADAPSH\\nGAAGEAAAAAEHAAFVFAAAAAAA\\nGIDARAAAAAACAAAAICAFFLDC\\nGAAAVAAAAGAAAAAAYPAAAAEC\\nGFAAAAAAAAAFTVAAFCAEMTVA\\nGRPAAAAAAAAEECAVYCGVIPFC\\nGAAAIKAAAAAIVPHVFKAAEWND\\nGSAAAAAAAAFVAAAAVEAISKKC\\nGRVAFAAAAAHAAAAAVLPAAFYF\\nGVAAAAEIIALAAAAAAAAEEFFD\\nGAAAAAAVAAIAAPAAFCAAAVNC\\nGFPAIAAMAAFYAPAAPAMIPPAC\\nGAFPAPQIAAAYVPTARCAASKCC\\nGAAAIAPAAANDAPAAGPAASKKC\\nGAAAVAIVWVEMMAAMIAAAMMEG\\nGLFFPAAAAAAPAPAAGEFFYLFC\\n'"
            ],
            "application/vnd.google.colaboratory.intrinsic+json": {
              "type": "string"
            }
          },
          "metadata": {},
          "execution_count": 19
        }
      ]
    },
    {
      "cell_type": "markdown",
      "source": [
        "#Variational Autoencoder (VAE) for AMP Sequences  \n",
        "======================================================================  \n",
        "\n",
        "This script demonstrates a basic character-level VAE for protein sequences.  \n",
        "The encoder compresses sequences into a latent vector.  \n",
        "The decoder reconstructs\n",
        "the original sequence from the latent vector.  \n",
        "New sequences can be generated by sampling from the latent space.\n"
      ],
      "metadata": {
        "id": "ubOlgtPY2ILG"
      }
    },
    {
      "cell_type": "code",
      "source": [
        "import numpy as np\n",
        "import tensorflow as tf\n",
        "from tensorflow.keras import layers, Model"
      ],
      "metadata": {
        "id": "wR-5tPpF2QPb"
      },
      "execution_count": 20,
      "outputs": []
    },
    {
      "cell_type": "markdown",
      "source": [
        "##1. Antimicrobial Peptide Sequence Database  "
      ],
      "metadata": {
        "id": "TXmyl58i3P1Y"
      }
    },
    {
      "cell_type": "code",
      "source": [
        "amp_sequences = [\n",
        "            'FLPLLAGLAANFLPTIICKISYKC',\n",
        "            'FLPFIARLAAKVFPSIICSVTKKC',\n",
        "            'GVLSNVIGYLKKLGTGALNAVLKQ',\n",
        "            'GLFSVLGAVAKHVLPHVVPVIAEK',\n",
        "            'GLFKVLGSVAKHLLPHVAPVIAEK',\n",
        "            'GLFKVLGSVAKHLLPHVVPVIAEK',\n",
        "            'GLFGVLGSIAKHVLPHVVPVIAEK',\n",
        "            'MFFSSKKCKTVSKTFRGPCVRNAN',\n",
        "            'LLKELWTKMKGAGKAVLGKIKGLL',\n",
        "            'LLKELWTKIKGAGKAVLGKIKGLL',\n",
        "            'FWGALIKGAAKLIPSVVGLFKKKQ',\n",
        "            'FLPVVAGLAAKVLPSIICAVTKKC',\n",
        "            'FLPAIVGAAGQFLPKIFCAISKKC',\n",
        "            'FLPAIVGAAGKFLPKIFCAISKKC',\n",
        "            'FFPIVAGVAGQVLKKIYCTISKKC',\n",
        "            'FLPIIAGIAAKVFPKIFCAISKKC',\n",
        "            'FLPMLAGLAASMVPKLVCLITKKC',\n",
        "            'FLPMLAGLAASMVPKFVCLITKKC',\n",
        "            'FLPFIAGMAAKFLPKIFCAISKKC',\n",
        "            'FLPAIAGMAAKFLPKIFCAISKKC',\n",
        "            'FLPFIAGVAAKFLPKIFCAISKKC',\n",
        "            'FLPAIAGVAAKFLPKIFCAISKKC',\n",
        "            'FLPAIVGAAAKFLPKIFCVISKKC',\n",
        "            'FLPFIAGMAANFLPKIFCAISKKC',\n",
        "            'FLPIIAGVAAKVFPKIFCAISKKC',\n",
        "            'FLPIIASVAAKVFSKIFCAISKKC',\n",
        "            'FLPIIASVAANVFSKIFCAISKKC',\n",
        "            'GLNTLKKVFQGLHEAIKLINNHVQ',\n",
        "            'GLNALKKVFQGIHEAIKLINNHVQ',\n",
        "            'DSHAKRHHGYKRKFHEKHHSHRGY',\n",
        "            'FLPLLAGLAANFLPKIFCKITKKC',\n",
        "            'FLPILAGLAAKIVPKLFCLATKKC',\n",
        "            'FLPLIAGLAANFLPKIFCAITKKC',\n",
        "            'FLPVIAGVAAKFLPKIFCAITKKC',\n",
        "            'FWGALAKGALKLIPSLFSSFSKKD',\n",
        "            'ITSVSWCTPGCTSEGGGSGCSHCC',\n",
        "            'GLLNGLALRLGKRALKKIIKRLCR',\n",
        "            'ALWKDILKNAGKAALNEINQLVNQ',\n",
        "            'GLRSKIWLWVLLMIWQESNKFKKM',\n",
        "            'GKGRWLERIGKAGGIIIGGALDHL',\n",
        "            'FLGALIKGAIHGGRFIHGMIQNHH',\n",
        "            'FLGLLFHGVHHVGKWIHGLIHGHH',\n",
        "            'FLPMLAGLAANFLPKLFCKITKKC',\n",
        "            'FLPLAVSLAANFLPKLFCKITKKC',\n",
        "            'FLPLLAGLAANFFPKIFCKITRKC',\n",
        "            'FLPILASLAAKFGPKLFCLVTKKC',\n",
        "            'FLPILASLAAKLGPKLFCLVTKKC',\n",
        "            'FLPILASLAATLGPKLLCLITKKC',\n",
        "            'GIFSNMYARTPAGYFRGPAGYAAN',\n",
        "            'GLKDKFKSMGEKLKQYIQTWKAKF',\n",
        "            'SLKDKVKSMGEKLKQYIQTWKAKF',\n",
        "            'GFRDVLKGAAKAFVKTVAGHIANI',\n",
        "            'GIKDWIKGAAKKLIKTVASNIANQ',\n",
        "            'GFKDWIKGAAKKLIKTVASSIANQ',\n",
        "            'VIPFVASVAAEMMQHVYCAASKKC',\n",
        "            'FFGTALKIAANVLPTAICKILKKC',\n",
        "            'FFGTALKIAANILPTAICKILKKC',\n",
        "            'ILPFVAGVAAEMMQHVYCAASKKC',\n",
        "            'FLPAIVGAAAKFLPKIFCAISKKC',\n",
        "            'FLPIIAGVAAKVLPKIFCAISKKC',\n",
        "            'FLPIIAGIAAKFLPKIFCTISKKC',\n",
        "            'FLPVIAGVAANFLPKLFCAISKKC',\n",
        "            'FLPIIAGAAAKVVQKIFCAISKKC',\n",
        "            'FLPIIAGAAAKVVEKIFCAISKKC',\n",
        "            'FLPAVLRVAAKIVPTVFCAISKKC',\n",
        "            'FLPAVLRVAAQVVPTVFCAISKKC',\n",
        "            'FMGGLIKAATKIVPAAYCAITKKC',\n",
        "            'FLPILAGLAAKLVPKVFCSITKKC',\n",
        "            'FLPILAGLAANILPKVFCSITKKC',\n",
        "            'FFPIIAGMAAKLIPSLFCKITKKC',\n",
        "            'FMGSALRIAAKVLPAALCQIFKKC',\n",
        "            'DSHEKRHHEHRRKFHEKHHSHRGY',\n",
        "            'WRSLGRTLLRLSHALKPLARRSGW',\n",
        "            'VTSWSLCTPGCTSPGGGSNCSFCC',\n",
        "            'VIPFVASVAAEMMHHVYCAASKRC',\n",
        "            'SPAGCRFCCGCCPNMRGCGVCCRF',\n",
        "            'GRGREFMSNLKEKLSGVKEKMKNS',\n",
        "            'FLPVLTGLTPSIVPKLVCLLTKKC',\n",
        "            'FLPVLAGLTPSIVPKLVCLLTKKC',\n",
        "            'FFPMLAGVAARVVPKVICLITKKC',\n",
        "            'DSMGAVKLAKLLIDKMKCEVTKAC',\n",
        "            'FLPGVLRLVTKVGPAVVCAITRNC',\n",
        "            'VIVFVASVAAEMMQHVYCAASKKC',\n",
        "            'FLPAVIRVAANVLPTAFCAISKKC',\n",
        "            'IDPFVAGVAAEMMQHVYCAASKKC',\n",
        "            'INPFVAGVAAEMMQHVYCAASKKC',\n",
        "            'ILPFVAGVAAEMMKHVYCAASKKC',\n",
        "            'IIPFVAGVAAEMMEHVYCAASKKC',\n",
        "            'QLPFVAGVACEMCQCVYCAASKKC',\n",
        "            'ILPFVAGVAAEMMEHVYCAASKKC',\n",
        "            'ILPFVAGVAAMEMEHVYCAASKKC',\n",
        "            'FLPAVLLVATHVLPTVFCAITRKC',\n",
        "            'IPWKLPATFRPVERPFSKPFCRKD',\n",
        "            'FLPLLAGVVANFLPQIICKIARKC',\n",
        "            'FLGSLLGLVGKVVPTLFCKISKKC',\n",
        "            'FIGPVLKIAAGILPTAICKIFKKC',\n",
        "            'FVGPVLKIAAGILPTAICKIYKKC',\n",
        "            'FLGPIIKIATGILPTAICKFLKKC',\n",
        "            'FLPLIASLAANFVPKIFCKITKKC',\n",
        "            'FLPLIASVAANLVPKIFCKITKKC',\n",
        "            'FLSTLLKVAFKVVPTLFCPITKKC',\n",
        "            'KRKCPKTPFDNTPGAWFAHLILGC',\n",
        "            'FLGLIFHGLVHAGKLIHGLIHRNR',\n",
        "            'FLPAVIRVAANVLPTVFCAISKKC',\n",
        "            'FLPAVLRVAAKVVPTVFCLISKKC',\n",
        "            'FLSTALKVAANVVPTLFCKITKKC',\n",
        "            'FLPIVAGLAANFLPKIVCKITKKC',\n",
        "            'FLSTLLNVASNVVPTLICKITKKC',\n",
        "            'FLSTLLNVASKVVPTLFCKITKKC',\n",
        "            'FLPMLAGLAANFLPKIVCKITKKC',\n",
        "            'FIGPVLKMATSILPTAICKGFKKC',\n",
        "            'FLGPIIKMATGILPTAICKGLKKC',\n",
        "            'FLPIIAGVAAKVLPKLFCAITKKC',\n",
        "            'FLPVIAGLAAKVLPKLFCAITKKC',\n",
        "            'RKGWFKAMKSIAKFIAKEKLKEHL',\n",
        "            'FLPAVLKVAAHILPTAICAISRRC',\n",
        "            'FMGTALKIAANVLPAAFCKIFKKC',\n",
        "            'KLGFENFLVKALKTVMHVPTSPLL',\n",
        "            'GWLPTFGKILRKAMQLGPKLIQPI',\n",
        "            'GNGVVLTLTHECNLATWTKKLKCC',\n",
        "            'ITIPPIVKNTLKKFIKGAVSALMS',\n",
        "            'FLPGLIKAAVGVGSTILCKITKKC',\n",
        "            'FLPGLIKAAVGIGSTIFCKISKKC',\n",
        "            'FLPGLIKVAVGVGSTILCKITKKC',\n",
        "            'FLPGLIKAAVGIGSTIFCKISRKC',\n",
        "            'FLPMLAGLAANFLPKIICKITKKC',\n",
        "            'FLPIVASLAANFLPKIICKITKKC',\n",
        "            'FWGALAKGALKLIPSLVSSFTKKD',\n",
        "            'FFPLIAGLAARFLPKIFCSITKRC',\n",
        "            'VIPFVASVAAEMMQHVYCAASKRC',\n",
        "            'FFPSIAGLAAKFLPKIFCSITKRC',\n",
        "            'FLPAVLRVAAKVGPAVFCAITQKC',\n",
        "            'FLGMLLHGVGHAIHGLIHGKQNVE',\n",
        "            'NPAGCRFCCGCCPNMIGCGVCCRF',\n",
        "            'IWSFLIKAATKLLPSLFGGGKKDS',\n",
        "            'RNGCIVDPRCPYQQCRRPLYCRRR',\n",
        "            'ILELAGNAARDNKKTRIIPRHLQL',\n",
        "            'FLPLLAGLAANFLPTIICKIARKC',\n",
        "            'FLPAIIGMAAKVLPAFLCKITKKC',\n",
        "            'RRRRRFRRVIRRIRLPKYLTINTE',\n",
        "            'GNGVLKTISHECNMNTWQFLFTCC',\n",
        "            'FLPILAGLAANLVPKLICSITKKC',\n",
        "            'FLGAVLKVAGKLVPAAICKISKKC',\n",
        "            'FLGALFKVASKLVPAAICSISKKC',\n",
        "            'FLPVIAGIAANVLPKLFCKLTKRC',\n",
        "            'FFPIIARLAAKVIPSLVCAVTKKC',\n",
        "            'KRVNWRKVGRNTALGASYVLSFLG',\n",
        "            'GHSVDRIPEYFGPPGLPGPVLFYS',\n",
        "            'FLPLIAGVAAKVLPKIFCAISKKC',\n",
        "            'SDSVVSDIICTTFCSVTWCQSNCC',\n",
        "            'FLPLLAGLAANFLPQIICKIARKC',\n",
        "            'FLGTVLKVAAKVLPAALCQIFKKC',\n",
        "            'QSHLSMCRYCCCKGNKGCGFCCKF',\n",
        "            'VFDIIKDAGKQLVAHAMGKIAEKV',\n",
        "            'VFDIIKDAGRQLVAHAMGKIAEKV',\n",
        "            'FLPLLAGLAASFLPTIFCKISRKC',\n",
        "            'FFPIVAGVAAKVLKKIFCTISKKC',\n",
        "]"
      ],
      "metadata": {
        "id": "0h83aJ7v3QEZ"
      },
      "execution_count": 21,
      "outputs": []
    },
    {
      "cell_type": "code",
      "source": [
        "unique_amino_acids = sorted(list(set(\"\".join(amp_sequences))))\n",
        "char_to_idx = {char: idx for idx, char in enumerate(unique_amino_acids)}\n",
        "idx_to_char = {idx: char for char, idx in char_to_idx.items()}\n",
        "vocab_size = len(unique_amino_acids)"
      ],
      "metadata": {
        "id": "SSdyPaWp3fZB"
      },
      "execution_count": 22,
      "outputs": []
    },
    {
      "cell_type": "markdown",
      "source": [
        "##2. Encode sequences as integers"
      ],
      "metadata": {
        "id": "3u-U-9xg3fQ0"
      }
    },
    {
      "cell_type": "code",
      "source": [
        "encoded_data = []\n",
        "for seq in amp_sequences:\n",
        "    encoded_data.append([char_to_idx[c] for c in seq])\n",
        "encoded_data = np.array(encoded_data)  # shape (num_sequences, 24)"
      ],
      "metadata": {
        "id": "WHt3NLWC3rVF"
      },
      "execution_count": 23,
      "outputs": []
    },
    {
      "cell_type": "markdown",
      "source": [
        "##3. One-hot encode for VAE"
      ],
      "metadata": {
        "id": "xJwQHl4E3utL"
      }
    },
    {
      "cell_type": "code",
      "source": [
        "one_hot_data = tf.keras.utils.to_categorical(encoded_data, num_classes=vocab_size)\n",
        "# shape: (num_sequences, 24, vocab_size)"
      ],
      "metadata": {
        "id": "F-T13_n63tv6"
      },
      "execution_count": 24,
      "outputs": []
    },
    {
      "cell_type": "markdown",
      "source": [
        "##4. Define hyperparameters"
      ],
      "metadata": {
        "id": "agoGkcl93uR5"
      }
    },
    {
      "cell_type": "code",
      "source": [
        "seq_length = 24\n",
        "latent_dim = 16  # dimension of the latent space\n",
        "hidden_dim = 64  # dimension of LSTM or dense hidden units"
      ],
      "metadata": {
        "id": "xYMsvDa_3_1K"
      },
      "execution_count": 25,
      "outputs": []
    },
    {
      "cell_type": "markdown",
      "source": [
        "##5. Sampling function for the VAE  "
      ],
      "metadata": {
        "id": "HRaZLT5b4Bmy"
      }
    },
    {
      "cell_type": "code",
      "source": [
        "def sampling(args):\n",
        "    z_mean, z_log_var = args\n",
        "    epsilon = tf.keras.backend.random_normal(shape=(tf.shape(z_mean)[0], latent_dim))\n",
        "    return z_mean + tf.exp(0.5 * z_log_var) * epsilon"
      ],
      "metadata": {
        "id": "Iwcp8SIG4Bte"
      },
      "execution_count": 26,
      "outputs": []
    },
    {
      "cell_type": "markdown",
      "source": [
        "##6. Define a custom loss function for the VAE  "
      ],
      "metadata": {
        "id": "IGLPHJyH4HqU"
      }
    },
    {
      "cell_type": "code",
      "source": [
        "def vae_loss_fn(y_true, y_pred, z_mean, z_log_var):\n",
        "    # Reconstruction loss (categorical crossentropy)\n",
        "    reconstruction_loss = tf.keras.losses.categorical_crossentropy(y_true, y_pred)\n",
        "    reconstruction_loss = tf.reduce_sum(reconstruction_loss, axis=1)  # Sum over sequence length\n",
        "\n",
        "    # KL divergence loss\n",
        "    kl_loss = 1 + z_log_var - tf.square(z_mean) - tf.exp(z_log_var)\n",
        "    kl_loss = -0.5 * tf.reduce_sum(kl_loss, axis=1)\n",
        "\n",
        "    # Total loss\n",
        "    total_loss = reconstruction_loss + kl_loss\n",
        "    return tf.reduce_mean(total_loss)\n"
      ],
      "metadata": {
        "id": "grs2cOjg4Hx0"
      },
      "execution_count": 27,
      "outputs": []
    },
    {
      "cell_type": "markdown",
      "source": [
        "##7. Encoder model  \n"
      ],
      "metadata": {
        "id": "8fzJ-WHb4QDw"
      }
    },
    {
      "cell_type": "code",
      "source": [
        "encoder_inputs = layers.Input(shape=(seq_length, vocab_size))\n",
        "x = layers.LSTM(hidden_dim)(encoder_inputs)\n",
        "z_mean = layers.Dense(latent_dim)(x)\n",
        "z_log_var = layers.Dense(latent_dim)(x)\n",
        "z = layers.Lambda(sampling)([z_mean, z_log_var])\n",
        "encoder = Model(encoder_inputs, [z_mean, z_log_var, z], name=\"encoder\")"
      ],
      "metadata": {
        "id": "pqCvCUyy4QS3"
      },
      "execution_count": 28,
      "outputs": []
    },
    {
      "cell_type": "markdown",
      "source": [
        "##8. Decoder model  "
      ],
      "metadata": {
        "id": "KiK4n6OQ4Wb6"
      }
    },
    {
      "cell_type": "code",
      "source": [
        "latent_inputs = layers.Input(shape=(latent_dim,))\n",
        "dec_x = layers.RepeatVector(seq_length)(latent_inputs)\n",
        "dec_x = layers.LSTM(hidden_dim, return_sequences=True)(dec_x)\n",
        "decoder_outputs = layers.TimeDistributed(layers.Dense(vocab_size, activation='softmax'))(dec_x)\n",
        "decoder = Model(latent_inputs, decoder_outputs, name=\"decoder\")"
      ],
      "metadata": {
        "id": "AsSpu-9Z4WmW"
      },
      "execution_count": 29,
      "outputs": []
    },
    {
      "cell_type": "markdown",
      "source": [
        "##9. VAE model that connects encoder and decoder  \n"
      ],
      "metadata": {
        "id": "6kuKgPI24bQ8"
      }
    },
    {
      "cell_type": "code",
      "source": [
        "z_mean_tensor, z_log_var_tensor, z_tensor = encoder(encoder_inputs)\n",
        "outputs = decoder(z_tensor)\n",
        "vae = Model(encoder_inputs, outputs, name=\"vae\")"
      ],
      "metadata": {
        "id": "w42XOrGP4bXC"
      },
      "execution_count": 30,
      "outputs": []
    },
    {
      "cell_type": "markdown",
      "source": [
        "##10. Create a custom model class to incorporate the custom loss  \n"
      ],
      "metadata": {
        "id": "SwpzhR044huw"
      }
    },
    {
      "cell_type": "code",
      "source": [
        "class VAEModel(tf.keras.Model):\n",
        "    def __init__(self, encoder, decoder, **kwargs):\n",
        "        super(VAEModel, self).__init__(**kwargs)\n",
        "        self.encoder = encoder\n",
        "        self.decoder = decoder\n",
        "\n",
        "    def train_step(self, data):\n",
        "        if isinstance(data, tuple):\n",
        "            data = data[0]\n",
        "\n",
        "        with tf.GradientTape() as tape:\n",
        "            z_mean, z_log_var, z = self.encoder(data)\n",
        "            reconstruction = self.decoder(z)\n",
        "            loss = vae_loss_fn(data, reconstruction, z_mean, z_log_var)\n",
        "\n",
        "        trainable_vars = self.trainable_variables\n",
        "        gradients = tape.gradient(loss, trainable_vars)\n",
        "        self.optimizer.apply_gradients(zip(gradients, trainable_vars))\n",
        "\n",
        "        return {\"loss\": loss}\n"
      ],
      "metadata": {
        "id": "S73mNzX04h8y"
      },
      "execution_count": 31,
      "outputs": []
    },
    {
      "cell_type": "markdown",
      "source": [
        "##11. Create and compile the custom VAE model  \n"
      ],
      "metadata": {
        "id": "dSnrR1Mg4qIL"
      }
    },
    {
      "cell_type": "code",
      "source": [
        "custom_vae = VAEModel(encoder, decoder)\n",
        "custom_vae.compile(optimizer='adam')"
      ],
      "metadata": {
        "id": "O6a9P1lQ4qSe"
      },
      "execution_count": 32,
      "outputs": []
    },
    {
      "cell_type": "markdown",
      "source": [
        "##12. Build the model  \n"
      ],
      "metadata": {
        "id": "wbWpxjAc4uwT"
      }
    },
    {
      "cell_type": "code",
      "source": [
        "custom_vae.build(input_shape=(None, seq_length, vocab_size))\n",
        "custom_vae.summary()"
      ],
      "metadata": {
        "id": "Ujgbx8Qi4u2w",
        "outputId": "1a5fa922-7a32-4029-8ab7-998b8d5750f8",
        "colab": {
          "base_uri": "https://localhost:8080/",
          "height": 215
        }
      },
      "execution_count": 33,
      "outputs": [
        {
          "output_type": "display_data",
          "data": {
            "text/plain": [
              "\u001b[1mModel: \"vae_model\"\u001b[0m\n"
            ],
            "text/html": [
              "<pre style=\"white-space:pre;overflow-x:auto;line-height:normal;font-family:Menlo,'DejaVu Sans Mono',consolas,'Courier New',monospace\"><span style=\"font-weight: bold\">Model: \"vae_model\"</span>\n",
              "</pre>\n"
            ]
          },
          "metadata": {}
        },
        {
          "output_type": "display_data",
          "data": {
            "text/plain": [
              "┏━━━━━━━━━━━━━━━━━━━━━━━━━━━━━━━━━━━━━━┳━━━━━━━━━━━━━━━━━━━━━━━━━━━━━┳━━━━━━━━━━━━━━━━━┓\n",
              "┃\u001b[1m \u001b[0m\u001b[1mLayer (type)                        \u001b[0m\u001b[1m \u001b[0m┃\u001b[1m \u001b[0m\u001b[1mOutput Shape               \u001b[0m\u001b[1m \u001b[0m┃\u001b[1m \u001b[0m\u001b[1m        Param #\u001b[0m\u001b[1m \u001b[0m┃\n",
              "┡━━━━━━━━━━━━━━━━━━━━━━━━━━━━━━━━━━━━━━╇━━━━━━━━━━━━━━━━━━━━━━━━━━━━━╇━━━━━━━━━━━━━━━━━┩\n",
              "│ encoder (\u001b[38;5;33mFunctional\u001b[0m)                 │ [(\u001b[38;5;45mNone\u001b[0m, \u001b[38;5;34m16\u001b[0m), (\u001b[38;5;45mNone\u001b[0m, \u001b[38;5;34m16\u001b[0m),    │          \u001b[38;5;34m23,840\u001b[0m │\n",
              "│                                      │ (\u001b[38;5;45mNone\u001b[0m, \u001b[38;5;34m16\u001b[0m)]                 │                 │\n",
              "├──────────────────────────────────────┼─────────────────────────────┼─────────────────┤\n",
              "│ decoder (\u001b[38;5;33mFunctional\u001b[0m)                 │ (\u001b[38;5;45mNone\u001b[0m, \u001b[38;5;34m24\u001b[0m, \u001b[38;5;34m20\u001b[0m)              │          \u001b[38;5;34m22,036\u001b[0m │\n",
              "└──────────────────────────────────────┴─────────────────────────────┴─────────────────┘\n"
            ],
            "text/html": [
              "<pre style=\"white-space:pre;overflow-x:auto;line-height:normal;font-family:Menlo,'DejaVu Sans Mono',consolas,'Courier New',monospace\">┏━━━━━━━━━━━━━━━━━━━━━━━━━━━━━━━━━━━━━━┳━━━━━━━━━━━━━━━━━━━━━━━━━━━━━┳━━━━━━━━━━━━━━━━━┓\n",
              "┃<span style=\"font-weight: bold\"> Layer (type)                         </span>┃<span style=\"font-weight: bold\"> Output Shape                </span>┃<span style=\"font-weight: bold\">         Param # </span>┃\n",
              "┡━━━━━━━━━━━━━━━━━━━━━━━━━━━━━━━━━━━━━━╇━━━━━━━━━━━━━━━━━━━━━━━━━━━━━╇━━━━━━━━━━━━━━━━━┩\n",
              "│ encoder (<span style=\"color: #0087ff; text-decoration-color: #0087ff\">Functional</span>)                 │ [(<span style=\"color: #00d7ff; text-decoration-color: #00d7ff\">None</span>, <span style=\"color: #00af00; text-decoration-color: #00af00\">16</span>), (<span style=\"color: #00d7ff; text-decoration-color: #00d7ff\">None</span>, <span style=\"color: #00af00; text-decoration-color: #00af00\">16</span>),    │          <span style=\"color: #00af00; text-decoration-color: #00af00\">23,840</span> │\n",
              "│                                      │ (<span style=\"color: #00d7ff; text-decoration-color: #00d7ff\">None</span>, <span style=\"color: #00af00; text-decoration-color: #00af00\">16</span>)]                 │                 │\n",
              "├──────────────────────────────────────┼─────────────────────────────┼─────────────────┤\n",
              "│ decoder (<span style=\"color: #0087ff; text-decoration-color: #0087ff\">Functional</span>)                 │ (<span style=\"color: #00d7ff; text-decoration-color: #00d7ff\">None</span>, <span style=\"color: #00af00; text-decoration-color: #00af00\">24</span>, <span style=\"color: #00af00; text-decoration-color: #00af00\">20</span>)              │          <span style=\"color: #00af00; text-decoration-color: #00af00\">22,036</span> │\n",
              "└──────────────────────────────────────┴─────────────────────────────┴─────────────────┘\n",
              "</pre>\n"
            ]
          },
          "metadata": {}
        },
        {
          "output_type": "display_data",
          "data": {
            "text/plain": [
              "\u001b[1m Total params: \u001b[0m\u001b[38;5;34m45,876\u001b[0m (179.20 KB)\n"
            ],
            "text/html": [
              "<pre style=\"white-space:pre;overflow-x:auto;line-height:normal;font-family:Menlo,'DejaVu Sans Mono',consolas,'Courier New',monospace\"><span style=\"font-weight: bold\"> Total params: </span><span style=\"color: #00af00; text-decoration-color: #00af00\">45,876</span> (179.20 KB)\n",
              "</pre>\n"
            ]
          },
          "metadata": {}
        },
        {
          "output_type": "display_data",
          "data": {
            "text/plain": [
              "\u001b[1m Trainable params: \u001b[0m\u001b[38;5;34m45,876\u001b[0m (179.20 KB)\n"
            ],
            "text/html": [
              "<pre style=\"white-space:pre;overflow-x:auto;line-height:normal;font-family:Menlo,'DejaVu Sans Mono',consolas,'Courier New',monospace\"><span style=\"font-weight: bold\"> Trainable params: </span><span style=\"color: #00af00; text-decoration-color: #00af00\">45,876</span> (179.20 KB)\n",
              "</pre>\n"
            ]
          },
          "metadata": {}
        },
        {
          "output_type": "display_data",
          "data": {
            "text/plain": [
              "\u001b[1m Non-trainable params: \u001b[0m\u001b[38;5;34m0\u001b[0m (0.00 B)\n"
            ],
            "text/html": [
              "<pre style=\"white-space:pre;overflow-x:auto;line-height:normal;font-family:Menlo,'DejaVu Sans Mono',consolas,'Courier New',monospace\"><span style=\"font-weight: bold\"> Non-trainable params: </span><span style=\"color: #00af00; text-decoration-color: #00af00\">0</span> (0.00 B)\n",
              "</pre>\n"
            ]
          },
          "metadata": {}
        }
      ]
    },
    {
      "cell_type": "markdown",
      "source": [
        "##13. Train VAE  \n"
      ],
      "metadata": {
        "id": "JHOg2CRf4zCJ"
      }
    },
    {
      "cell_type": "code",
      "source": [
        "epochs = 50\n",
        "batch_size = 8\n",
        "custom_vae.fit(one_hot_data, epochs=epochs, batch_size=batch_size)"
      ],
      "metadata": {
        "id": "swzGcmYh4zaa",
        "outputId": "c2608ce0-81d5-49fe-cf28-8cb5b6f7431d",
        "colab": {
          "base_uri": "https://localhost:8080/"
        }
      },
      "execution_count": null,
      "outputs": [
        {
          "output_type": "stream",
          "name": "stdout",
          "text": [
            "Epoch 1/50\n",
            "\u001b[1m10/20\u001b[0m \u001b[32m━━━━━━━━━━\u001b[0m\u001b[37m━━━━━━━━━━\u001b[0m \u001b[1m0s\u001b[0m 20ms/step - loss: 72.4462"
          ]
        }
      ]
    },
    {
      "cell_type": "markdown",
      "source": [
        "##14. Generate new sequences by sampling from latent space  \n",
        "    \n",
        "  Sample from the latent space and decode a new sequence.  \n",
        "  **decoder**: the trained decoder model  \n",
        "  **sample_z**: optional latent vector. If None, randomly sample from N(0,1).  \n",
        "  **return**: generated protein sequence as a string\n",
        "    "
      ],
      "metadata": {
        "id": "PlFqtLTP45tN"
      }
    },
    {
      "cell_type": "code",
      "source": [
        "def generate_new_sequence(decoder, sample_z=None):\n",
        "    if sample_z is None:\n",
        "        sample_z = np.random.randn(1, latent_dim)  # random from normal distribution\n",
        "    pred = decoder.predict(sample_z)[0]  # shape: (24, vocab_size)\n",
        "\n",
        "    # Convert one-hot distribution at each position to a chosen amino acid\n",
        "    seq_indices = [np.argmax(prob) for prob in pred]\n",
        "    seq_string = \"\".join(idx_to_char[idx] for idx in seq_indices)\n",
        "    return seq_string\n",
        "\n"
      ],
      "metadata": {
        "id": "JCjNIOou454x"
      },
      "execution_count": null,
      "outputs": []
    },
    {
      "cell_type": "markdown",
      "source": [
        "###Generating VAE AMP Sequences"
      ],
      "metadata": {
        "id": "gc4bZhM_5ktm"
      }
    },
    {
      "cell_type": "code",
      "source": [
        "for i in range(20):\n",
        "  new_peptide = generate_new_sequence(decoder)\n",
        "  print(\"Generated Peptide (VAE):\", new_peptide)"
      ],
      "metadata": {
        "id": "WWgeGXHz5-28"
      },
      "execution_count": null,
      "outputs": []
    },
    {
      "cell_type": "markdown",
      "source": [
        "###VAE Generated AMP Sequences (previously generated):  \n"
      ],
      "metadata": {
        "id": "gseG9YwyJxTE"
      }
    },
    {
      "cell_type": "code",
      "source": [
        "'''\n",
        "FFPLAAGAAAALLPPIFCCIKKKC\n",
        "FFPLIAAAAAAVLPPICCIIKKKC\n",
        "FLLLLLAAAAKLPPPICAIKKKKC\n",
        "FPPIIAGAAAALLPPIFCIIKKKC\n",
        "FFPLVAAAAAVVVPPICCIIKKKC\n",
        "FFFLLAGAAAAVVPPVCCAIKKKC\n",
        "FFPLVAAAAAVVVPPVCCAIKKKC\n",
        "FLLLVVAAAAVVPPVVCAAIKKKC\n",
        "FFLLLAGAAAKVPPPICCAAKKKC\n",
        "FFPPAAGAAAAVLPPICCAIKKKC\n",
        "FFLLLAGAAAKLLPKICCIIKKKC\n",
        "FFFLLLGGGGGGAAVHHHVAAAKK\n",
        "FFLLLAGAAAKLPPPICCIIKKKC\n",
        "FFLLLGGAAAKKLPPIICAAAKKK\n",
        "FLLLLLLAAAKLPPPICCIKKKCC\n",
        "FLLLGGAAAKKLPPIICAAKKKCC\n",
        "FLLLLLLAAAKLPPVICCIIKKKC\n",
        "FFLLIAGAAAAKLPPIICCIIKKC\n",
        "LLLLLLLLLLLLLLKKKKKKKKKK\n",
        "FFLLVVAAAAVVPPPVAAAAKKCC\n",
        "\"\"\""
      ],
      "metadata": {
        "id": "2tm2QLyeJ4un"
      },
      "execution_count": null,
      "outputs": []
    },
    {
      "cell_type": "markdown",
      "source": [
        "[Structural Comparison](https://drive.google.com/file/d/10NPBDNodfBnLrOzYK-g3XFJd26KnJ-5y/view?usp=sharing)"
      ],
      "metadata": {
        "id": "2YgVu2tDjNEm"
      }
    }
  ]
}